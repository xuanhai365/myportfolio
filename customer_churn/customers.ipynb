{
  "cells": [
    {
      "cell_type": "markdown",
      "metadata": {
        "collapsed": false,
        "id": "SjhjJmx68Kou"
      },
      "source": [
        "Churn rate is a marketing metric that describes the number of customers who leave a business over a specific time period. Every user is assigned a prediction value that estimates their state of churn at any given time. This value is based on:\n",
        "\n",
        "User demographic information\n",
        "Browsing behavior\n",
        "Historical purchase data among other information\n",
        "It factors in our unique and proprietary predictions of how long a user will remain a customer. This score is updated every day for all users who have a minimum of one conversion. The values assigned are between 1 and 5."
      ]
    },
    {
      "cell_type": "markdown",
      "metadata": {
        "collapsed": false,
        "id": "iDJN7fbU8Kov"
      },
      "source": [
        "## Load Dataset"
      ]
    },
    {
      "cell_type": "code",
      "execution_count": null,
      "metadata": {
        "colab": {
          "base_uri": "https://localhost:8080/"
        },
        "id": "YfmW1_KdudmQ",
        "outputId": "3fc6455d-dae3-4df5-eebd-70922ab65e52"
      },
      "outputs": [
        {
          "output_type": "stream",
          "name": "stdout",
          "text": [
            "Drive already mounted at /content/drive; to attempt to forcibly remount, call drive.mount(\"/content/drive\", force_remount=True).\n"
          ]
        }
      ],
      "source": [
        "import pandas as pd\n",
        "import numpy as np\n",
        "import matplotlib.pyplot as plt\n",
        "import seaborn as sns\n",
        "from google.colab import drive\n",
        "\n",
        "drive.mount(\"/content/drive\")"
      ]
    },
    {
      "cell_type": "code",
      "execution_count": null,
      "metadata": {
        "colab": {
          "base_uri": "https://localhost:8080/",
          "height": 421
        },
        "id": "G8aJO4Rj8Kov",
        "outputId": "bef0f6eb-a71c-4704-8a52-93cf8624a613"
      },
      "outputs": [
        {
          "output_type": "execute_result",
          "data": {
            "text/plain": [
              "                            customer_id              Name  age gender  \\\n",
              "0      fffe4300490044003600300030003800   Pattie Morrisey   18      F   \n",
              "1  fffe43004900440032003100300035003700       Traci Peery   32      F   \n",
              "2      fffe4300490044003100390032003600   Merideth Mcmeen   44      F   \n",
              "3  fffe43004900440036003000330031003600  Eufemia Cardwell   37      M   \n",
              "4  fffe43004900440031003900350030003600      Meghan Kosak   31      F   \n",
              "\n",
              "  security_no region_category  membership_category joining_date  \\\n",
              "0     XW0DQ7H         Village  Platinum Membership   2017-08-17   \n",
              "1     5K0N3X1            City   Premium Membership   2017-08-28   \n",
              "2     1F2TCL3            Town        No Membership   2016-11-11   \n",
              "3     VJGJ33N            City        No Membership   2016-10-29   \n",
              "4     SVZXCWB            City        No Membership   2017-09-12   \n",
              "\n",
              "  joined_through_referral referral_id  ... avg_time_spent  \\\n",
              "0                      No    xxxxxxxx  ...         300.63   \n",
              "1                       ?    CID21329  ...         306.34   \n",
              "2                     Yes    CID12313  ...         516.16   \n",
              "3                     Yes     CID3793  ...          53.27   \n",
              "4                      No    xxxxxxxx  ...         113.13   \n",
              "\n",
              "  avg_transaction_value avg_frequency_login_days points_in_wallet  \\\n",
              "0              53005.25                     17.0           781.75   \n",
              "1              12838.38                     10.0              NaN   \n",
              "2              21027.00                     22.0           500.69   \n",
              "3              25239.56                      6.0           567.66   \n",
              "4              24483.66                     16.0           663.06   \n",
              "\n",
              "   used_special_discount  offer_application_preference  past_complaint  \\\n",
              "0                    Yes                           Yes              No   \n",
              "1                    Yes                            No             Yes   \n",
              "2                     No                           Yes             Yes   \n",
              "3                     No                           Yes             Yes   \n",
              "4                     No                           Yes             Yes   \n",
              "\n",
              "      complaint_status                  feedback churn_risk_score  \n",
              "0       Not Applicable  Products always in Stock                2  \n",
              "1               Solved     Quality Customer Care                1  \n",
              "2  Solved in Follow-up              Poor Website                5  \n",
              "3             Unsolved              Poor Website                5  \n",
              "4               Solved              Poor Website                5  \n",
              "\n",
              "[5 rows x 25 columns]"
            ],
            "text/html": [
              "\n",
              "  <div id=\"df-8d97cd28-fee1-4b10-a181-72731142f407\">\n",
              "    <div class=\"colab-df-container\">\n",
              "      <div>\n",
              "<style scoped>\n",
              "    .dataframe tbody tr th:only-of-type {\n",
              "        vertical-align: middle;\n",
              "    }\n",
              "\n",
              "    .dataframe tbody tr th {\n",
              "        vertical-align: top;\n",
              "    }\n",
              "\n",
              "    .dataframe thead th {\n",
              "        text-align: right;\n",
              "    }\n",
              "</style>\n",
              "<table border=\"1\" class=\"dataframe\">\n",
              "  <thead>\n",
              "    <tr style=\"text-align: right;\">\n",
              "      <th></th>\n",
              "      <th>customer_id</th>\n",
              "      <th>Name</th>\n",
              "      <th>age</th>\n",
              "      <th>gender</th>\n",
              "      <th>security_no</th>\n",
              "      <th>region_category</th>\n",
              "      <th>membership_category</th>\n",
              "      <th>joining_date</th>\n",
              "      <th>joined_through_referral</th>\n",
              "      <th>referral_id</th>\n",
              "      <th>...</th>\n",
              "      <th>avg_time_spent</th>\n",
              "      <th>avg_transaction_value</th>\n",
              "      <th>avg_frequency_login_days</th>\n",
              "      <th>points_in_wallet</th>\n",
              "      <th>used_special_discount</th>\n",
              "      <th>offer_application_preference</th>\n",
              "      <th>past_complaint</th>\n",
              "      <th>complaint_status</th>\n",
              "      <th>feedback</th>\n",
              "      <th>churn_risk_score</th>\n",
              "    </tr>\n",
              "  </thead>\n",
              "  <tbody>\n",
              "    <tr>\n",
              "      <th>0</th>\n",
              "      <td>fffe4300490044003600300030003800</td>\n",
              "      <td>Pattie Morrisey</td>\n",
              "      <td>18</td>\n",
              "      <td>F</td>\n",
              "      <td>XW0DQ7H</td>\n",
              "      <td>Village</td>\n",
              "      <td>Platinum Membership</td>\n",
              "      <td>2017-08-17</td>\n",
              "      <td>No</td>\n",
              "      <td>xxxxxxxx</td>\n",
              "      <td>...</td>\n",
              "      <td>300.63</td>\n",
              "      <td>53005.25</td>\n",
              "      <td>17.0</td>\n",
              "      <td>781.75</td>\n",
              "      <td>Yes</td>\n",
              "      <td>Yes</td>\n",
              "      <td>No</td>\n",
              "      <td>Not Applicable</td>\n",
              "      <td>Products always in Stock</td>\n",
              "      <td>2</td>\n",
              "    </tr>\n",
              "    <tr>\n",
              "      <th>1</th>\n",
              "      <td>fffe43004900440032003100300035003700</td>\n",
              "      <td>Traci Peery</td>\n",
              "      <td>32</td>\n",
              "      <td>F</td>\n",
              "      <td>5K0N3X1</td>\n",
              "      <td>City</td>\n",
              "      <td>Premium Membership</td>\n",
              "      <td>2017-08-28</td>\n",
              "      <td>?</td>\n",
              "      <td>CID21329</td>\n",
              "      <td>...</td>\n",
              "      <td>306.34</td>\n",
              "      <td>12838.38</td>\n",
              "      <td>10.0</td>\n",
              "      <td>NaN</td>\n",
              "      <td>Yes</td>\n",
              "      <td>No</td>\n",
              "      <td>Yes</td>\n",
              "      <td>Solved</td>\n",
              "      <td>Quality Customer Care</td>\n",
              "      <td>1</td>\n",
              "    </tr>\n",
              "    <tr>\n",
              "      <th>2</th>\n",
              "      <td>fffe4300490044003100390032003600</td>\n",
              "      <td>Merideth Mcmeen</td>\n",
              "      <td>44</td>\n",
              "      <td>F</td>\n",
              "      <td>1F2TCL3</td>\n",
              "      <td>Town</td>\n",
              "      <td>No Membership</td>\n",
              "      <td>2016-11-11</td>\n",
              "      <td>Yes</td>\n",
              "      <td>CID12313</td>\n",
              "      <td>...</td>\n",
              "      <td>516.16</td>\n",
              "      <td>21027.00</td>\n",
              "      <td>22.0</td>\n",
              "      <td>500.69</td>\n",
              "      <td>No</td>\n",
              "      <td>Yes</td>\n",
              "      <td>Yes</td>\n",
              "      <td>Solved in Follow-up</td>\n",
              "      <td>Poor Website</td>\n",
              "      <td>5</td>\n",
              "    </tr>\n",
              "    <tr>\n",
              "      <th>3</th>\n",
              "      <td>fffe43004900440036003000330031003600</td>\n",
              "      <td>Eufemia Cardwell</td>\n",
              "      <td>37</td>\n",
              "      <td>M</td>\n",
              "      <td>VJGJ33N</td>\n",
              "      <td>City</td>\n",
              "      <td>No Membership</td>\n",
              "      <td>2016-10-29</td>\n",
              "      <td>Yes</td>\n",
              "      <td>CID3793</td>\n",
              "      <td>...</td>\n",
              "      <td>53.27</td>\n",
              "      <td>25239.56</td>\n",
              "      <td>6.0</td>\n",
              "      <td>567.66</td>\n",
              "      <td>No</td>\n",
              "      <td>Yes</td>\n",
              "      <td>Yes</td>\n",
              "      <td>Unsolved</td>\n",
              "      <td>Poor Website</td>\n",
              "      <td>5</td>\n",
              "    </tr>\n",
              "    <tr>\n",
              "      <th>4</th>\n",
              "      <td>fffe43004900440031003900350030003600</td>\n",
              "      <td>Meghan Kosak</td>\n",
              "      <td>31</td>\n",
              "      <td>F</td>\n",
              "      <td>SVZXCWB</td>\n",
              "      <td>City</td>\n",
              "      <td>No Membership</td>\n",
              "      <td>2017-09-12</td>\n",
              "      <td>No</td>\n",
              "      <td>xxxxxxxx</td>\n",
              "      <td>...</td>\n",
              "      <td>113.13</td>\n",
              "      <td>24483.66</td>\n",
              "      <td>16.0</td>\n",
              "      <td>663.06</td>\n",
              "      <td>No</td>\n",
              "      <td>Yes</td>\n",
              "      <td>Yes</td>\n",
              "      <td>Solved</td>\n",
              "      <td>Poor Website</td>\n",
              "      <td>5</td>\n",
              "    </tr>\n",
              "  </tbody>\n",
              "</table>\n",
              "<p>5 rows × 25 columns</p>\n",
              "</div>\n",
              "      <button class=\"colab-df-convert\" onclick=\"convertToInteractive('df-8d97cd28-fee1-4b10-a181-72731142f407')\"\n",
              "              title=\"Convert this dataframe to an interactive table.\"\n",
              "              style=\"display:none;\">\n",
              "        \n",
              "  <svg xmlns=\"http://www.w3.org/2000/svg\" height=\"24px\"viewBox=\"0 0 24 24\"\n",
              "       width=\"24px\">\n",
              "    <path d=\"M0 0h24v24H0V0z\" fill=\"none\"/>\n",
              "    <path d=\"M18.56 5.44l.94 2.06.94-2.06 2.06-.94-2.06-.94-.94-2.06-.94 2.06-2.06.94zm-11 1L8.5 8.5l.94-2.06 2.06-.94-2.06-.94L8.5 2.5l-.94 2.06-2.06.94zm10 10l.94 2.06.94-2.06 2.06-.94-2.06-.94-.94-2.06-.94 2.06-2.06.94z\"/><path d=\"M17.41 7.96l-1.37-1.37c-.4-.4-.92-.59-1.43-.59-.52 0-1.04.2-1.43.59L10.3 9.45l-7.72 7.72c-.78.78-.78 2.05 0 2.83L4 21.41c.39.39.9.59 1.41.59.51 0 1.02-.2 1.41-.59l7.78-7.78 2.81-2.81c.8-.78.8-2.07 0-2.86zM5.41 20L4 18.59l7.72-7.72 1.47 1.35L5.41 20z\"/>\n",
              "  </svg>\n",
              "      </button>\n",
              "      \n",
              "  <style>\n",
              "    .colab-df-container {\n",
              "      display:flex;\n",
              "      flex-wrap:wrap;\n",
              "      gap: 12px;\n",
              "    }\n",
              "\n",
              "    .colab-df-convert {\n",
              "      background-color: #E8F0FE;\n",
              "      border: none;\n",
              "      border-radius: 50%;\n",
              "      cursor: pointer;\n",
              "      display: none;\n",
              "      fill: #1967D2;\n",
              "      height: 32px;\n",
              "      padding: 0 0 0 0;\n",
              "      width: 32px;\n",
              "    }\n",
              "\n",
              "    .colab-df-convert:hover {\n",
              "      background-color: #E2EBFA;\n",
              "      box-shadow: 0px 1px 2px rgba(60, 64, 67, 0.3), 0px 1px 3px 1px rgba(60, 64, 67, 0.15);\n",
              "      fill: #174EA6;\n",
              "    }\n",
              "\n",
              "    [theme=dark] .colab-df-convert {\n",
              "      background-color: #3B4455;\n",
              "      fill: #D2E3FC;\n",
              "    }\n",
              "\n",
              "    [theme=dark] .colab-df-convert:hover {\n",
              "      background-color: #434B5C;\n",
              "      box-shadow: 0px 1px 3px 1px rgba(0, 0, 0, 0.15);\n",
              "      filter: drop-shadow(0px 1px 2px rgba(0, 0, 0, 0.3));\n",
              "      fill: #FFFFFF;\n",
              "    }\n",
              "  </style>\n",
              "\n",
              "      <script>\n",
              "        const buttonEl =\n",
              "          document.querySelector('#df-8d97cd28-fee1-4b10-a181-72731142f407 button.colab-df-convert');\n",
              "        buttonEl.style.display =\n",
              "          google.colab.kernel.accessAllowed ? 'block' : 'none';\n",
              "\n",
              "        async function convertToInteractive(key) {\n",
              "          const element = document.querySelector('#df-8d97cd28-fee1-4b10-a181-72731142f407');\n",
              "          const dataTable =\n",
              "            await google.colab.kernel.invokeFunction('convertToInteractive',\n",
              "                                                     [key], {});\n",
              "          if (!dataTable) return;\n",
              "\n",
              "          const docLinkHtml = 'Like what you see? Visit the ' +\n",
              "            '<a target=\"_blank\" href=https://colab.research.google.com/notebooks/data_table.ipynb>data table notebook</a>'\n",
              "            + ' to learn more about interactive tables.';\n",
              "          element.innerHTML = '';\n",
              "          dataTable['output_type'] = 'display_data';\n",
              "          await google.colab.output.renderOutput(dataTable, element);\n",
              "          const docLink = document.createElement('div');\n",
              "          docLink.innerHTML = docLinkHtml;\n",
              "          element.appendChild(docLink);\n",
              "        }\n",
              "      </script>\n",
              "    </div>\n",
              "  </div>\n",
              "  "
            ]
          },
          "metadata": {},
          "execution_count": 61
        }
      ],
      "source": [
        "import pandas as pd\n",
        "PATH = \"/content/drive/MyDrive/HomeWork-churn_rate_prediction.csv\" # Path to your file\n",
        "\n",
        "df = pd.read_csv(PATH)\n",
        "df.head()\n",
        "#ToDo: Show histogram of dataframe"
      ]
    },
    {
      "cell_type": "markdown",
      "metadata": {
        "collapsed": false,
        "id": "mk4IrtwS8Kow"
      },
      "source": [
        "## Data Analysis"
      ]
    },
    {
      "cell_type": "code",
      "execution_count": null,
      "metadata": {
        "colab": {
          "base_uri": "https://localhost:8080/",
          "height": 300
        },
        "id": "Z4z7vGmJ8Kox",
        "outputId": "10a524fa-2a79-4751-d182-f28ea4314a15"
      },
      "outputs": [
        {
          "output_type": "execute_result",
          "data": {
            "text/plain": [
              "                age  days_since_last_login  avg_time_spent  \\\n",
              "count  36992.000000           36992.000000    36992.000000   \n",
              "mean      37.118161             -41.915576      243.472334   \n",
              "std       15.867412             228.819900      398.289149   \n",
              "min       10.000000            -999.000000    -2814.109110   \n",
              "25%       23.000000               8.000000       60.102500   \n",
              "50%       37.000000              12.000000      161.765000   \n",
              "75%       51.000000              16.000000      356.515000   \n",
              "max       64.000000              26.000000     3235.578521   \n",
              "\n",
              "       avg_transaction_value  points_in_wallet  churn_risk_score  \n",
              "count           36992.000000      33549.000000      36992.000000  \n",
              "mean            29271.194003        686.882199          3.463397  \n",
              "std             19444.806226        194.063624          1.409661  \n",
              "min               800.460000       -760.661236         -1.000000  \n",
              "25%             14177.540000        616.150000          3.000000  \n",
              "50%             27554.485000        697.620000          4.000000  \n",
              "75%             40855.110000        763.950000          5.000000  \n",
              "max             99914.050000       2069.069761          5.000000  "
            ],
            "text/html": [
              "\n",
              "  <div id=\"df-3bc1d977-e6a9-4e3c-8d2a-cd6a375ac82d\">\n",
              "    <div class=\"colab-df-container\">\n",
              "      <div>\n",
              "<style scoped>\n",
              "    .dataframe tbody tr th:only-of-type {\n",
              "        vertical-align: middle;\n",
              "    }\n",
              "\n",
              "    .dataframe tbody tr th {\n",
              "        vertical-align: top;\n",
              "    }\n",
              "\n",
              "    .dataframe thead th {\n",
              "        text-align: right;\n",
              "    }\n",
              "</style>\n",
              "<table border=\"1\" class=\"dataframe\">\n",
              "  <thead>\n",
              "    <tr style=\"text-align: right;\">\n",
              "      <th></th>\n",
              "      <th>age</th>\n",
              "      <th>days_since_last_login</th>\n",
              "      <th>avg_time_spent</th>\n",
              "      <th>avg_transaction_value</th>\n",
              "      <th>points_in_wallet</th>\n",
              "      <th>churn_risk_score</th>\n",
              "    </tr>\n",
              "  </thead>\n",
              "  <tbody>\n",
              "    <tr>\n",
              "      <th>count</th>\n",
              "      <td>36992.000000</td>\n",
              "      <td>36992.000000</td>\n",
              "      <td>36992.000000</td>\n",
              "      <td>36992.000000</td>\n",
              "      <td>33549.000000</td>\n",
              "      <td>36992.000000</td>\n",
              "    </tr>\n",
              "    <tr>\n",
              "      <th>mean</th>\n",
              "      <td>37.118161</td>\n",
              "      <td>-41.915576</td>\n",
              "      <td>243.472334</td>\n",
              "      <td>29271.194003</td>\n",
              "      <td>686.882199</td>\n",
              "      <td>3.463397</td>\n",
              "    </tr>\n",
              "    <tr>\n",
              "      <th>std</th>\n",
              "      <td>15.867412</td>\n",
              "      <td>228.819900</td>\n",
              "      <td>398.289149</td>\n",
              "      <td>19444.806226</td>\n",
              "      <td>194.063624</td>\n",
              "      <td>1.409661</td>\n",
              "    </tr>\n",
              "    <tr>\n",
              "      <th>min</th>\n",
              "      <td>10.000000</td>\n",
              "      <td>-999.000000</td>\n",
              "      <td>-2814.109110</td>\n",
              "      <td>800.460000</td>\n",
              "      <td>-760.661236</td>\n",
              "      <td>-1.000000</td>\n",
              "    </tr>\n",
              "    <tr>\n",
              "      <th>25%</th>\n",
              "      <td>23.000000</td>\n",
              "      <td>8.000000</td>\n",
              "      <td>60.102500</td>\n",
              "      <td>14177.540000</td>\n",
              "      <td>616.150000</td>\n",
              "      <td>3.000000</td>\n",
              "    </tr>\n",
              "    <tr>\n",
              "      <th>50%</th>\n",
              "      <td>37.000000</td>\n",
              "      <td>12.000000</td>\n",
              "      <td>161.765000</td>\n",
              "      <td>27554.485000</td>\n",
              "      <td>697.620000</td>\n",
              "      <td>4.000000</td>\n",
              "    </tr>\n",
              "    <tr>\n",
              "      <th>75%</th>\n",
              "      <td>51.000000</td>\n",
              "      <td>16.000000</td>\n",
              "      <td>356.515000</td>\n",
              "      <td>40855.110000</td>\n",
              "      <td>763.950000</td>\n",
              "      <td>5.000000</td>\n",
              "    </tr>\n",
              "    <tr>\n",
              "      <th>max</th>\n",
              "      <td>64.000000</td>\n",
              "      <td>26.000000</td>\n",
              "      <td>3235.578521</td>\n",
              "      <td>99914.050000</td>\n",
              "      <td>2069.069761</td>\n",
              "      <td>5.000000</td>\n",
              "    </tr>\n",
              "  </tbody>\n",
              "</table>\n",
              "</div>\n",
              "      <button class=\"colab-df-convert\" onclick=\"convertToInteractive('df-3bc1d977-e6a9-4e3c-8d2a-cd6a375ac82d')\"\n",
              "              title=\"Convert this dataframe to an interactive table.\"\n",
              "              style=\"display:none;\">\n",
              "        \n",
              "  <svg xmlns=\"http://www.w3.org/2000/svg\" height=\"24px\"viewBox=\"0 0 24 24\"\n",
              "       width=\"24px\">\n",
              "    <path d=\"M0 0h24v24H0V0z\" fill=\"none\"/>\n",
              "    <path d=\"M18.56 5.44l.94 2.06.94-2.06 2.06-.94-2.06-.94-.94-2.06-.94 2.06-2.06.94zm-11 1L8.5 8.5l.94-2.06 2.06-.94-2.06-.94L8.5 2.5l-.94 2.06-2.06.94zm10 10l.94 2.06.94-2.06 2.06-.94-2.06-.94-.94-2.06-.94 2.06-2.06.94z\"/><path d=\"M17.41 7.96l-1.37-1.37c-.4-.4-.92-.59-1.43-.59-.52 0-1.04.2-1.43.59L10.3 9.45l-7.72 7.72c-.78.78-.78 2.05 0 2.83L4 21.41c.39.39.9.59 1.41.59.51 0 1.02-.2 1.41-.59l7.78-7.78 2.81-2.81c.8-.78.8-2.07 0-2.86zM5.41 20L4 18.59l7.72-7.72 1.47 1.35L5.41 20z\"/>\n",
              "  </svg>\n",
              "      </button>\n",
              "      \n",
              "  <style>\n",
              "    .colab-df-container {\n",
              "      display:flex;\n",
              "      flex-wrap:wrap;\n",
              "      gap: 12px;\n",
              "    }\n",
              "\n",
              "    .colab-df-convert {\n",
              "      background-color: #E8F0FE;\n",
              "      border: none;\n",
              "      border-radius: 50%;\n",
              "      cursor: pointer;\n",
              "      display: none;\n",
              "      fill: #1967D2;\n",
              "      height: 32px;\n",
              "      padding: 0 0 0 0;\n",
              "      width: 32px;\n",
              "    }\n",
              "\n",
              "    .colab-df-convert:hover {\n",
              "      background-color: #E2EBFA;\n",
              "      box-shadow: 0px 1px 2px rgba(60, 64, 67, 0.3), 0px 1px 3px 1px rgba(60, 64, 67, 0.15);\n",
              "      fill: #174EA6;\n",
              "    }\n",
              "\n",
              "    [theme=dark] .colab-df-convert {\n",
              "      background-color: #3B4455;\n",
              "      fill: #D2E3FC;\n",
              "    }\n",
              "\n",
              "    [theme=dark] .colab-df-convert:hover {\n",
              "      background-color: #434B5C;\n",
              "      box-shadow: 0px 1px 3px 1px rgba(0, 0, 0, 0.15);\n",
              "      filter: drop-shadow(0px 1px 2px rgba(0, 0, 0, 0.3));\n",
              "      fill: #FFFFFF;\n",
              "    }\n",
              "  </style>\n",
              "\n",
              "      <script>\n",
              "        const buttonEl =\n",
              "          document.querySelector('#df-3bc1d977-e6a9-4e3c-8d2a-cd6a375ac82d button.colab-df-convert');\n",
              "        buttonEl.style.display =\n",
              "          google.colab.kernel.accessAllowed ? 'block' : 'none';\n",
              "\n",
              "        async function convertToInteractive(key) {\n",
              "          const element = document.querySelector('#df-3bc1d977-e6a9-4e3c-8d2a-cd6a375ac82d');\n",
              "          const dataTable =\n",
              "            await google.colab.kernel.invokeFunction('convertToInteractive',\n",
              "                                                     [key], {});\n",
              "          if (!dataTable) return;\n",
              "\n",
              "          const docLinkHtml = 'Like what you see? Visit the ' +\n",
              "            '<a target=\"_blank\" href=https://colab.research.google.com/notebooks/data_table.ipynb>data table notebook</a>'\n",
              "            + ' to learn more about interactive tables.';\n",
              "          element.innerHTML = '';\n",
              "          dataTable['output_type'] = 'display_data';\n",
              "          await google.colab.output.renderOutput(dataTable, element);\n",
              "          const docLink = document.createElement('div');\n",
              "          docLink.innerHTML = docLinkHtml;\n",
              "          element.appendChild(docLink);\n",
              "        }\n",
              "      </script>\n",
              "    </div>\n",
              "  </div>\n",
              "  "
            ]
          },
          "metadata": {},
          "execution_count": 62
        }
      ],
      "source": [
        "# Data analysis\n",
        "# Todo: analyze your data here\n",
        "df.describe()"
      ]
    },
    {
      "cell_type": "code",
      "execution_count": null,
      "metadata": {
        "colab": {
          "base_uri": "https://localhost:8080/"
        },
        "id": "B0jQTs1b1VtF",
        "outputId": "40071a60-e680-4537-89c3-32a805db5968"
      },
      "outputs": [
        {
          "output_type": "execute_result",
          "data": {
            "text/plain": [
              "Index(['customer_id', 'Name', 'age', 'gender', 'security_no',\n",
              "       'region_category', 'membership_category', 'joining_date',\n",
              "       'joined_through_referral', 'referral_id', 'preferred_offer_types',\n",
              "       'medium_of_operation', 'internet_option', 'last_visit_time',\n",
              "       'days_since_last_login', 'avg_time_spent', 'avg_transaction_value',\n",
              "       'avg_frequency_login_days', 'points_in_wallet', 'used_special_discount',\n",
              "       'offer_application_preference', 'past_complaint', 'complaint_status',\n",
              "       'feedback', 'churn_risk_score'],\n",
              "      dtype='object')"
            ]
          },
          "metadata": {},
          "execution_count": 63
        }
      ],
      "source": [
        "df.columns"
      ]
    },
    {
      "cell_type": "code",
      "execution_count": null,
      "metadata": {
        "colab": {
          "base_uri": "https://localhost:8080/",
          "height": 957
        },
        "id": "NmFYvzX1iMmo",
        "outputId": "66f34302-832a-46ba-b767-1c473f70c2a6"
      },
      "outputs": [
        {
          "output_type": "execute_result",
          "data": {
            "text/plain": [
              "array([[<Axes: title={'center': 'age'}>,\n",
              "        <Axes: title={'center': 'days_since_last_login'}>],\n",
              "       [<Axes: title={'center': 'avg_time_spent'}>,\n",
              "        <Axes: title={'center': 'avg_transaction_value'}>],\n",
              "       [<Axes: title={'center': 'points_in_wallet'}>,\n",
              "        <Axes: title={'center': 'churn_risk_score'}>]], dtype=object)"
            ]
          },
          "metadata": {},
          "execution_count": 64
        },
        {
          "output_type": "display_data",
          "data": {
            "text/plain": [
              "<Figure size 1000x1000 with 6 Axes>"
            ],
            "image/png": "[encoded data removed]"
          },
          "metadata": {}
        }
      ],
      "source": [
        "df.hist(figsize = (10, 10))"
      ]
    },
    {
      "cell_type": "code",
      "execution_count": null,
      "metadata": {
        "colab": {
          "base_uri": "https://localhost:8080/"
        },
        "id": "fKClAUNM1aky",
        "outputId": "ebda6900-d981-4da5-e55d-f2f043830a5e"
      },
      "outputs": [
        {
          "output_type": "stream",
          "name": "stdout",
          "text": [
            "<class 'pandas.core.frame.DataFrame'>\n",
            "RangeIndex: 36992 entries, 0 to 36991\n",
            "Data columns (total 25 columns):\n",
            " #   Column                        Non-Null Count  Dtype  \n",
            "---  ------                        --------------  -----  \n",
            " 0   customer_id                   36992 non-null  object \n",
            " 1   Name                          36992 non-null  object \n",
            " 2   age                           36992 non-null  int64  \n",
            " 3   gender                        36992 non-null  object \n",
            " 4   security_no                   36992 non-null  object \n",
            " 5   region_category               31564 non-null  object \n",
            " 6   membership_category           36992 non-null  object \n",
            " 7   joining_date                  36992 non-null  object \n",
            " 8   joined_through_referral       36992 non-null  object \n",
            " 9   referral_id                   36992 non-null  object \n",
            " 10  preferred_offer_types         36704 non-null  object \n",
            " 11  medium_of_operation           36992 non-null  object \n",
            " 12  internet_option               36992 non-null  object \n",
            " 13  last_visit_time               36992 non-null  object \n",
            " 14  days_since_last_login         36992 non-null  int64  \n",
            " 15  avg_time_spent                36992 non-null  float64\n",
            " 16  avg_transaction_value         36992 non-null  float64\n",
            " 17  avg_frequency_login_days      36992 non-null  object \n",
            " 18  points_in_wallet              33549 non-null  float64\n",
            " 19  used_special_discount         36992 non-null  object \n",
            " 20  offer_application_preference  36992 non-null  object \n",
            " 21  past_complaint                36992 non-null  object \n",
            " 22  complaint_status              36992 non-null  object \n",
            " 23  feedback                      36992 non-null  object \n",
            " 24  churn_risk_score              36992 non-null  int64  \n",
            "dtypes: float64(3), int64(3), object(19)\n",
            "memory usage: 7.1+ MB\n"
          ]
        }
      ],
      "source": [
        "df.info()"
      ]
    },
    {
      "cell_type": "code",
      "execution_count": null,
      "metadata": {
        "colab": {
          "base_uri": "https://localhost:8080/"
        },
        "id": "7TWbnmVk7n1f",
        "outputId": "e5b0e367-6ea5-44b4-8c02-9c2129bfa775"
      },
      "outputs": [
        {
          "output_type": "execute_result",
          "data": {
            "text/plain": [
              "[('customer_id',\n",
              "  array(['fffe4300490044003600300030003800',\n",
              "         'fffe43004900440032003100300035003700',\n",
              "         'fffe4300490044003100390032003600', ...,\n",
              "         'fffe4300490044003500330034003100',\n",
              "         'fffe43004900440031003200390039003000',\n",
              "         'fffe43004900440033003600340034003200'], dtype=object)),\n",
              " ('Name',\n",
              "  array(['Pattie Morrisey', 'Traci Peery', 'Merideth Mcmeen', ...,\n",
              "         'Luciana Kinch', 'Tawana Ardoin', 'Verlene Beaulieu'], dtype=object)),\n",
              " ('age',\n",
              "  array([18, 32, 44, 37, 31, 13, 21, 42, 45, 25, 60, 11, 34, 40, 16, 57, 39,\n",
              "         33, 30, 19, 48, 43, 29, 10, 20, 61, 17, 12, 52, 26, 49, 24, 22, 36,\n",
              "         58, 41, 50, 23, 38, 35, 28, 53, 55, 59, 47, 54, 62, 51, 56, 27, 14,\n",
              "         46, 15, 64, 63])),\n",
              " ('gender', array(['F', 'M', 'Unknown'], dtype=object)),\n",
              " ('security_no',\n",
              "  array(['XW0DQ7H', '5K0N3X1', '1F2TCL3', ..., 'XK1IM9H', 'K6VTP1Z',\n",
              "         'LBX0GLR'], dtype=object)),\n",
              " ('region_category', array(['Village', 'City', 'Town', nan], dtype=object)),\n",
              " ('membership_category',\n",
              "  array(['Platinum Membership', 'Premium Membership', 'No Membership',\n",
              "         'Gold Membership', 'Silver Membership', 'Basic Membership'],\n",
              "        dtype=object)),\n",
              " ('joining_date',\n",
              "  array(['2017-08-17', '2017-08-28', '2016-11-11', ..., '2017-12-11',\n",
              "         '2016-09-25', '2017-04-15'], dtype=object)),\n",
              " ('joined_through_referral', array(['No', '?', 'Yes'], dtype=object)),\n",
              " ('referral_id',\n",
              "  array(['xxxxxxxx', 'CID21329', 'CID12313', ..., 'CID60808', 'CID10431',\n",
              "         'CID45477'], dtype=object)),\n",
              " ('preferred_offer_types',\n",
              "  array(['Gift Vouchers/Coupons', 'Credit/Debit Card Offers',\n",
              "         'Without Offers', nan], dtype=object)),\n",
              " ('medium_of_operation',\n",
              "  array(['?', 'Desktop', 'Smartphone', 'Both'], dtype=object)),\n",
              " ('internet_option',\n",
              "  array(['Wi-Fi', 'Mobile_Data', 'Fiber_Optic'], dtype=object)),\n",
              " ('last_visit_time',\n",
              "  array(['16:08:02', '12:38:13', '22:53:21', ..., '04:14:05', '09:50:03',\n",
              "         '01:39:52'], dtype=object)),\n",
              " ('days_since_last_login',\n",
              "  array([  17,   16,   14,   11,   20,   23,   10,   19,   15,   13, -999,\n",
              "            5,   12,    9,   21,   18,    1,   22,    4,    8,    3,    6,\n",
              "            2,   24,    7,   26,   25])),\n",
              " ('avg_time_spent',\n",
              "  array([ 300.63     ,  306.34     ,  516.16     , ..., -638.1234208,\n",
              "          154.94     ,  482.61     ])),\n",
              " ('avg_transaction_value',\n",
              "  array([53005.25, 12838.38, 21027.  , ..., 38127.56,  2378.86,  2189.68])),\n",
              " ('avg_frequency_login_days',\n",
              "  array(['17.0', '10.0', '22.0', ..., '-9.32551114210603',\n",
              "         '-8.759329712785977', '27.8399274405269'], dtype=object)),\n",
              " ('points_in_wallet',\n",
              "  array([781.75      ,          nan, 500.69      , ..., 242.97962545,\n",
              "         639.51      , 197.26441364])),\n",
              " ('used_special_discount', array(['Yes', 'No'], dtype=object)),\n",
              " ('offer_application_preference', array(['Yes', 'No'], dtype=object)),\n",
              " ('past_complaint', array(['No', 'Yes'], dtype=object)),\n",
              " ('complaint_status',\n",
              "  array(['Not Applicable', 'Solved', 'Solved in Follow-up', 'Unsolved',\n",
              "         'No Information Available'], dtype=object)),\n",
              " ('feedback',\n",
              "  array(['Products always in Stock', 'Quality Customer Care',\n",
              "         'Poor Website', 'No reason specified', 'Poor Product Quality',\n",
              "         'Poor Customer Service', 'Too many ads', 'User Friendly Website',\n",
              "         'Reasonable Price'], dtype=object)),\n",
              " ('churn_risk_score', array([ 2,  1,  5,  3,  4, -1]))]"
            ]
          },
          "metadata": {},
          "execution_count": 66
        }
      ],
      "source": [
        "[(col, df[col].unique()) for col in df.columns]"
      ]
    },
    {
      "cell_type": "markdown",
      "metadata": {
        "id": "ga7m7SuRKuWq"
      },
      "source": [
        "**Irrelevant feature**"
      ]
    },
    {
      "cell_type": "code",
      "execution_count": null,
      "metadata": {
        "id": "5PqiT8HEK0RT"
      },
      "outputs": [],
      "source": [
        "drop_list = ['customer_id', 'Name', 'security_no', 'joining_date', 'last_visit_time']"
      ]
    },
    {
      "cell_type": "markdown",
      "metadata": {
        "id": "ztBTvyMlMhkK"
      },
      "source": [
        "**Invalid label**"
      ]
    },
    {
      "cell_type": "code",
      "execution_count": null,
      "metadata": {
        "colab": {
          "base_uri": "https://localhost:8080/"
        },
        "id": "phGaFYXXM7si",
        "outputId": "04e4c170-cbed-40a1-d427-56020742e63d"
      },
      "outputs": [
        {
          "output_type": "execute_result",
          "data": {
            "text/plain": [
              " 3    10424\n",
              " 4    10185\n",
              " 5     9827\n",
              " 2     2741\n",
              " 1     2652\n",
              "-1     1163\n",
              "Name: churn_risk_score, dtype: int64"
            ]
          },
          "metadata": {},
          "execution_count": 68
        }
      ],
      "source": [
        "df.churn_risk_score.value_counts()"
      ]
    },
    {
      "cell_type": "markdown",
      "metadata": {
        "id": "6lqLqqer1lqt"
      },
      "source": [
        "**Wrong type feature**"
      ]
    },
    {
      "cell_type": "code",
      "execution_count": null,
      "metadata": {
        "colab": {
          "base_uri": "https://localhost:8080/"
        },
        "id": "4S7znd1U1puD",
        "outputId": "a5d46d37-6870-446f-b657-cac9d1217eb8"
      },
      "outputs": [
        {
          "output_type": "execute_result",
          "data": {
            "text/plain": [
              "0         17.0\n",
              "1         10.0\n",
              "2         22.0\n",
              "3          6.0\n",
              "4         16.0\n",
              "         ...  \n",
              "36987      6.0\n",
              "36988     28.0\n",
              "36989    Error\n",
              "36990     20.0\n",
              "36991    Error\n",
              "Name: avg_frequency_login_days, Length: 36992, dtype: object"
            ]
          },
          "metadata": {},
          "execution_count": 69
        }
      ],
      "source": [
        "df.avg_frequency_login_days"
      ]
    },
    {
      "cell_type": "markdown",
      "metadata": {
        "id": "zBxbepI-0e-Z"
      },
      "source": [
        "**Categorical feature with few invalid records**"
      ]
    },
    {
      "cell_type": "code",
      "execution_count": null,
      "metadata": {
        "colab": {
          "base_uri": "https://localhost:8080/",
          "height": 468
        },
        "id": "Nb-eXuHY0ckd",
        "outputId": "2a4f206f-ae1c-4b63-84fb-2a1291add749"
      },
      "outputs": [
        {
          "output_type": "display_data",
          "data": {
            "text/plain": [
              "<Figure size 1000x500 with 2 Axes>"
            ],
            "image/png": "[encoded data removed]"
          },
          "metadata": {}
        }
      ],
      "source": [
        "_, ax = plt.subplots(1, 2, figsize = (10, 5))\n",
        "gender = df.gender.value_counts(dropna = False)\n",
        "label = [(str(val)).split()[0] for val in gender.index]\n",
        "ax[0].bar(label, gender)\n",
        "ax[0].set_title('Gender')\n",
        "\n",
        "preferred_offer_types = df.preferred_offer_types.value_counts(dropna = False)\n",
        "label = [(str(val)).split()[0] for val in preferred_offer_types.index]\n",
        "ax[1].bar(label, preferred_offer_types)\n",
        "ax[1].set_title('Preferred Offer Types')\n",
        "\n",
        "plt.show()"
      ]
    },
    {
      "cell_type": "markdown",
      "metadata": {
        "id": "_6HSNm_w1EiN"
      },
      "source": [
        "We can drop these few invaid records."
      ]
    },
    {
      "cell_type": "markdown",
      "metadata": {
        "id": "n3sC9r0E1JGh"
      },
      "source": [
        "**Categorical feature with a lot of invalid records**\n"
      ]
    },
    {
      "cell_type": "code",
      "execution_count": null,
      "metadata": {
        "colab": {
          "base_uri": "https://localhost:8080/",
          "height": 468
        },
        "id": "mJOlBkBxJ-BP",
        "outputId": "cfa00bd4-c711-4ad7-a600-6c534c35122e"
      },
      "outputs": [
        {
          "output_type": "display_data",
          "data": {
            "text/plain": [
              "<Figure size 1000x500 with 2 Axes>"
            ],
            "image/png": "[encoded data removed]"
          },
          "metadata": {}
        }
      ],
      "source": [
        "_, ax = plt.subplots(1, 2, figsize = (10, 5))\n",
        "region_category = df.region_category.value_counts(dropna = False)\n",
        "label = [str(val) for val in region_category.index]\n",
        "ax[0].bar(label, region_category)\n",
        "ax[0].set_title('Region Category')\n",
        "\n",
        "medium_of_operation = df.medium_of_operation.value_counts(dropna = False)\n",
        "label = [(str(val)).split()[0] for val in medium_of_operation.index]\n",
        "ax[1].bar(label, medium_of_operation)\n",
        "ax[1].set_title('medium_of_operation')\n",
        "\n",
        "plt.show()"
      ]
    },
    {
      "cell_type": "code",
      "execution_count": null,
      "metadata": {
        "colab": {
          "base_uri": "https://localhost:8080/",
          "height": 452
        },
        "id": "FHZbdTEKwSsG",
        "outputId": "f06aff1c-57f7-457c-f82b-7e317372a0f7"
      },
      "outputs": [
        {
          "output_type": "display_data",
          "data": {
            "text/plain": [
              "<Figure size 640x480 with 1 Axes>"
            ],
            "image/png": "[encoded data removed]"
          },
          "metadata": {}
        }
      ],
      "source": [
        "joined_through_referral = df.joined_through_referral.value_counts()\n",
        "\n",
        "plt.bar(joined_through_referral.index, joined_through_referral)\n",
        "plt.title('Join Through Referral')\n",
        "plt.show()"
      ]
    },
    {
      "cell_type": "markdown",
      "metadata": {
        "id": "eEQ2d46W-b7Z"
      },
      "source": [
        "**Try to find value for ? in joined_through_referral by using referral_id**"
      ]
    },
    {
      "cell_type": "code",
      "execution_count": null,
      "metadata": {
        "colab": {
          "base_uri": "https://localhost:8080/"
        },
        "id": "Z6OIiNqGpX8N",
        "outputId": "ec51fdbb-2a17-40ad-d6a3-55c3c9c21151"
      },
      "outputs": [
        {
          "output_type": "execute_result",
          "data": {
            "text/plain": [
              "array(['No referral', 'xxxxxxxx'], dtype='<U11')"
            ]
          },
          "metadata": {},
          "execution_count": 73
        }
      ],
      "source": [
        "np.unique([string for string in df.referral_id if string[:3] != 'CID'])"
      ]
    },
    {
      "cell_type": "markdown",
      "metadata": {
        "id": "CA0OcCo13fBr"
      },
      "source": [
        "We have two case of invalid format in referral ID"
      ]
    },
    {
      "cell_type": "code",
      "execution_count": null,
      "metadata": {
        "colab": {
          "base_uri": "https://localhost:8080/"
        },
        "id": "nim50LhlrSVT",
        "outputId": "b74694bc-b32b-4fe2-b029-8d097e7d0250"
      },
      "outputs": [
        {
          "output_type": "stream",
          "name": "stdout",
          "text": [
            "All no referral records: 5\n",
            "Join through referral: Yes, Referral ID: No referral -> 4\n",
            "Join through referral: No, Referral ID: No referral -> 0\n",
            "Join through referral: ?, Referral ID: No referral -> 1\n"
          ]
        }
      ],
      "source": [
        "data = df[df.referral_id == 'No referral']\n",
        "print('All no referral records:', len(data))\n",
        "print('Join through referral: Yes, Referral ID: No referral ->', len(data[data.joined_through_referral == 'Yes']))\n",
        "print('Join through referral: No, Referral ID: No referral ->', len(data[data.joined_through_referral == 'No']))\n",
        "print('Join through referral: ?, Referral ID: No referral ->', len(data[data.joined_through_referral == '?']))"
      ]
    },
    {
      "cell_type": "markdown",
      "metadata": {
        "id": "uKnCEwLX9Ye5"
      },
      "source": [
        "Without context, the 4 records above seem abnormal in the logical way. But still we can assume it is correct and try replacing ? with Yes."
      ]
    },
    {
      "cell_type": "code",
      "execution_count": null,
      "metadata": {
        "colab": {
          "base_uri": "https://localhost:8080/",
          "height": 452
        },
        "id": "0xORhFbLvliD",
        "outputId": "dae67e36-1a19-4a0e-a90a-1415bbfb4f54"
      },
      "outputs": [
        {
          "output_type": "display_data",
          "data": {
            "text/plain": [
              "<Figure size 640x480 with 1 Axes>"
            ],
            "image/png": "[encoded data removed]"
          },
          "metadata": {}
        }
      ],
      "source": [
        "data = df[df.referral_id != 'No referral']\n",
        "data = data[data.referral_id != 'xxxxxxxx']\n",
        "joined_through_referral = data.joined_through_referral.value_counts()\n",
        "\n",
        "plt.bar(joined_through_referral.index, joined_through_referral)\n",
        "plt.title('Status of joined_through_referral when referral_id is truly a ID')\n",
        "plt.show()"
      ]
    },
    {
      "cell_type": "markdown",
      "metadata": {
        "id": "Xkolca9C-qXw"
      },
      "source": [
        "The graph says that when referral_id is truly a ID, joined_through_referral have no record of No and it even make sense in real life. We can try replacing ? with Yes when referral_id is a ID."
      ]
    },
    {
      "cell_type": "code",
      "execution_count": null,
      "metadata": {
        "colab": {
          "base_uri": "https://localhost:8080/",
          "height": 452
        },
        "id": "QEofvAaW7ckJ",
        "outputId": "a766dfdc-aeba-4808-c826-9015aa18f258"
      },
      "outputs": [
        {
          "output_type": "display_data",
          "data": {
            "text/plain": [
              "<Figure size 640x480 with 1 Axes>"
            ],
            "image/png": "[encoded data removed]"
          },
          "metadata": {}
        }
      ],
      "source": [
        "data = df[df.referral_id == 'xxxxxxxx']\n",
        "joined_through_referral = data.joined_through_referral.value_counts()\n",
        "\n",
        "plt.bar(joined_through_referral.index, joined_through_referral)\n",
        "plt.title('Status of joined_through_referral when referral_id is xxxxxxxx')\n",
        "plt.show()"
      ]
    },
    {
      "cell_type": "markdown",
      "metadata": {
        "id": "hBc2UY4o_kW3"
      },
      "source": [
        "From this graph, we can see some customers are so lazy. Although they choose Yes for joined_through_referral, but still don't input referral_id. Luckily, the number of '?' values in this situation is not too much so we can drop these records."
      ]
    },
    {
      "cell_type": "markdown",
      "metadata": {
        "id": "i09RxzZnGh96"
      },
      "source": [
        "**Numerical feature with invalid records**"
      ]
    },
    {
      "cell_type": "code",
      "execution_count": null,
      "metadata": {
        "colab": {
          "base_uri": "https://localhost:8080/"
        },
        "id": "R3dQH5mkIglA",
        "outputId": "575bcbca-b331-4dd2-d13a-a1e1bbf804de"
      },
      "outputs": [
        {
          "output_type": "stream",
          "name": "stdout",
          "text": [
            "Percentage of Error values in avg_frequency_login_days:  9.52097750865052\n",
            "Percentage of negative float values in avg_frequency_login_days:  1.8463451557093427\n"
          ]
        }
      ],
      "source": [
        "filter = df.avg_frequency_login_days == 'Error'\n",
        "print('Percentage of Error values in avg_frequency_login_days: ', (filter).sum()/len(df) * 100)\n",
        "print('Percentage of negative float values in avg_frequency_login_days: ', (df.avg_frequency_login_days[~filter].astype('float64') < 0).sum()/len(df) * 100)"
      ]
    },
    {
      "cell_type": "code",
      "execution_count": null,
      "metadata": {
        "colab": {
          "base_uri": "https://localhost:8080/"
        },
        "id": "9sHMhoWYVm0W",
        "outputId": "98e07ec6-a207-4091-c97e-ba25e3ca86a6"
      },
      "outputs": [
        {
          "output_type": "stream",
          "name": "stdout",
          "text": [
            "Percentage of Null values in points_in_wallet:  9.307417820069205\n",
            "Percentage of negative float values in points_in_wallet:  0.3676470588235294\n"
          ]
        }
      ],
      "source": [
        "print('Percentage of Null values in points_in_wallet: ', df.points_in_wallet.isnull().sum()/len(df) * 100)\n",
        "print('Percentage of negative float values in points_in_wallet: ', (df.points_in_wallet < 0).sum()/len(df) * 100)"
      ]
    },
    {
      "cell_type": "code",
      "execution_count": null,
      "metadata": {
        "colab": {
          "base_uri": "https://localhost:8080/"
        },
        "id": "YZ3XisWuG5Ny",
        "outputId": "0fc478de-bfae-4bdb-b21e-a220d22e1510"
      },
      "outputs": [
        {
          "output_type": "stream",
          "name": "stdout",
          "text": [
            "Percentage of negative float values in days_since_last_login:  5.403871107266435\n"
          ]
        }
      ],
      "source": [
        "print('Percentage of negative float values in days_since_last_login: ', (df.days_since_last_login < 0).sum()/len(df) * 100)"
      ]
    },
    {
      "cell_type": "code",
      "execution_count": null,
      "metadata": {
        "colab": {
          "base_uri": "https://localhost:8080/"
        },
        "id": "q238NiK-bGRf",
        "outputId": "d8907518-9a58-4d94-9fe8-b826ad939153"
      },
      "outputs": [
        {
          "output_type": "stream",
          "name": "stdout",
          "text": [
            "Percentage of negative float values in avg_time_spent:  4.646950692041522\n"
          ]
        }
      ],
      "source": [
        "print('Percentage of negative float values in avg_time_spent: ', (df.avg_time_spent < 0).sum()/len(df) * 100)"
      ]
    },
    {
      "cell_type": "markdown",
      "metadata": {
        "id": "ofaojjWOO4mN"
      },
      "source": [
        "**Discover feedback variable and churn risk score**"
      ]
    },
    {
      "cell_type": "code",
      "execution_count": null,
      "metadata": {
        "colab": {
          "base_uri": "https://localhost:8080/"
        },
        "id": "sQJR8_KiPFqw",
        "outputId": "c3823adb-0965-4448-9755-60b89fb2fedb"
      },
      "outputs": [
        {
          "output_type": "execute_result",
          "data": {
            "text/plain": [
              "Poor Product Quality        6350\n",
              "No reason specified         6290\n",
              "Too many ads                6279\n",
              "Poor Website                6271\n",
              "Poor Customer Service       6252\n",
              "Reasonable Price            1417\n",
              "User Friendly Website       1391\n",
              "Products always in Stock    1382\n",
              "Quality Customer Care       1360\n",
              "Name: feedback, dtype: int64"
            ]
          },
          "metadata": {},
          "execution_count": 81
        }
      ],
      "source": [
        "df.feedback.value_counts()"
      ]
    },
    {
      "cell_type": "markdown",
      "metadata": {
        "id": "i5GjYzV7PPIU"
      },
      "source": [
        "We can see the feedback can group into 3 group: negative feedback, neutral feedback and positive feedback. Clearly the positive feedback is low shows that the bussiness is bad."
      ]
    },
    {
      "cell_type": "code",
      "execution_count": null,
      "metadata": {
        "colab": {
          "base_uri": "https://localhost:8080/"
        },
        "id": "2D5D2iAzPOfE",
        "outputId": "00ed64a6-737f-4287-8823-ce304163ef54"
      },
      "outputs": [
        {
          "output_type": "execute_result",
          "data": {
            "text/plain": [
              "Negative    8346\n",
              "Neutral     2078\n",
              "Name: feedback, dtype: int64"
            ]
          },
          "metadata": {},
          "execution_count": 82
        }
      ],
      "source": [
        "data = df.copy()\n",
        "\n",
        "negative = ['Poor Product Quality', 'Too many ads', 'Poor Website', 'Poor Customer Service']\n",
        "neutral = ['No reason specified']\n",
        "positive = ['Reasonable Price', 'User Friendly Website', 'Products always in Stock', 'Quality Customer Care']\n",
        "data.feedback = data.feedback.replace(negative, 'Negative')\n",
        "data.feedback = data.feedback.replace(neutral, 'Neutral')\n",
        "data.feedback = data.feedback.replace(positive, 'Positive')\n",
        "\n",
        "score = 3\n",
        "data.feedback[data.churn_risk_score == score].value_counts()"
      ]
    },
    {
      "cell_type": "markdown",
      "metadata": {
        "id": "3HUBrqrrHP-c"
      },
      "source": [
        "There's some relationship between two variable. When Churn Risk Score is 1 or 2, all of the feedback is Positive. On the otherhand, when Churn Risk Score is 3, 4, 5, all of the feedback is Neutral or Negative. Reduce the number of category of feedback variable from 9 to 3 may be a good thing."
      ]
    },
    {
      "cell_type": "markdown",
      "source": [
        "**Drop irrelevant feature**"
      ],
      "metadata": {
        "id": "XWtgSLQonexC"
      }
    },
    {
      "cell_type": "code",
      "source": [
        "df = df.drop(columns = drop_list)\n",
        "df"
      ],
      "metadata": {
        "colab": {
          "base_uri": "https://localhost:8080/",
          "height": 765
        },
        "id": "6zEmJEty-_Dk",
        "outputId": "3c6f6c31-924a-4d5c-9f89-faa4b491bade"
      },
      "execution_count": null,
      "outputs": [
        {
          "output_type": "execute_result",
          "data": {
            "text/plain": [
              "       age gender region_category  membership_category  \\\n",
              "0       18      F         Village  Platinum Membership   \n",
              "1       32      F            City   Premium Membership   \n",
              "2       44      F            Town        No Membership   \n",
              "3       37      M            City        No Membership   \n",
              "4       31      F            City        No Membership   \n",
              "...    ...    ...             ...                  ...   \n",
              "36987   46      F             NaN     Basic Membership   \n",
              "36988   29      F            Town     Basic Membership   \n",
              "36989   23      F             NaN     Basic Membership   \n",
              "36990   53      M         Village  Platinum Membership   \n",
              "36991   35      M            Town    Silver Membership   \n",
              "\n",
              "      joined_through_referral referral_id     preferred_offer_types  \\\n",
              "0                          No    xxxxxxxx     Gift Vouchers/Coupons   \n",
              "1                           ?    CID21329     Gift Vouchers/Coupons   \n",
              "2                         Yes    CID12313     Gift Vouchers/Coupons   \n",
              "3                         Yes     CID3793     Gift Vouchers/Coupons   \n",
              "4                          No    xxxxxxxx  Credit/Debit Card Offers   \n",
              "...                       ...         ...                       ...   \n",
              "36987                      No    xxxxxxxx  Credit/Debit Card Offers   \n",
              "36988                      No    xxxxxxxx            Without Offers   \n",
              "36989                     Yes     CID3838     Gift Vouchers/Coupons   \n",
              "36990                      No    xxxxxxxx     Gift Vouchers/Coupons   \n",
              "36991                      No    xxxxxxxx     Gift Vouchers/Coupons   \n",
              "\n",
              "      medium_of_operation internet_option  days_since_last_login  \\\n",
              "0                       ?           Wi-Fi                     17   \n",
              "1                 Desktop     Mobile_Data                     16   \n",
              "2                 Desktop           Wi-Fi                     14   \n",
              "3                 Desktop     Mobile_Data                     11   \n",
              "4              Smartphone     Mobile_Data                     20   \n",
              "...                   ...             ...                    ...   \n",
              "36987             Desktop           Wi-Fi                      2   \n",
              "36988          Smartphone           Wi-Fi                     13   \n",
              "36989             Desktop           Wi-Fi                     12   \n",
              "36990          Smartphone     Mobile_Data                     15   \n",
              "36991             Desktop     Mobile_Data                     15   \n",
              "\n",
              "       avg_time_spent  avg_transaction_value avg_frequency_login_days  \\\n",
              "0          300.630000               53005.25                     17.0   \n",
              "1          306.340000               12838.38                     10.0   \n",
              "2          516.160000               21027.00                     22.0   \n",
              "3           53.270000               25239.56                      6.0   \n",
              "4          113.130000               24483.66                     16.0   \n",
              "...               ...                    ...                      ...   \n",
              "36987     -650.682759               27277.68                      6.0   \n",
              "36988     -638.123421               11069.71                     28.0   \n",
              "36989      154.940000               38127.56                    Error   \n",
              "36990      482.610000                2378.86                     20.0   \n",
              "36991       79.180000                2189.68                    Error   \n",
              "\n",
              "       points_in_wallet used_special_discount offer_application_preference  \\\n",
              "0            781.750000                   Yes                          Yes   \n",
              "1                   NaN                   Yes                           No   \n",
              "2            500.690000                    No                          Yes   \n",
              "3            567.660000                    No                          Yes   \n",
              "4            663.060000                    No                          Yes   \n",
              "...                 ...                   ...                          ...   \n",
              "36987        639.510000                    No                          Yes   \n",
              "36988        527.990000                   Yes                           No   \n",
              "36989        680.470000                    No                          Yes   \n",
              "36990        197.264414                   Yes                          Yes   \n",
              "36991        719.970000                   Yes                           No   \n",
              "\n",
              "      past_complaint          complaint_status                  feedback  \\\n",
              "0                 No            Not Applicable  Products always in Stock   \n",
              "1                Yes                    Solved     Quality Customer Care   \n",
              "2                Yes       Solved in Follow-up              Poor Website   \n",
              "3                Yes                  Unsolved              Poor Website   \n",
              "4                Yes                    Solved              Poor Website   \n",
              "...              ...                       ...                       ...   \n",
              "36987            Yes  No Information Available       No reason specified   \n",
              "36988             No            Not Applicable     Poor Customer Service   \n",
              "36989            Yes                  Unsolved              Poor Website   \n",
              "36990             No            Not Applicable       No reason specified   \n",
              "36991             No            Not Applicable     Quality Customer Care   \n",
              "\n",
              "       churn_risk_score  \n",
              "0                     2  \n",
              "1                     1  \n",
              "2                     5  \n",
              "3                     5  \n",
              "4                     5  \n",
              "...                 ...  \n",
              "36987                 4  \n",
              "36988                 5  \n",
              "36989                 4  \n",
              "36990                 3  \n",
              "36991                 2  \n",
              "\n",
              "[36992 rows x 20 columns]"
            ],
            "text/html": [
              "\n",
              "  <div id=\"df-9390118e-e8b2-47db-91ff-d98bd777e30c\">\n",
              "    <div class=\"colab-df-container\">\n",
              "      <div>\n",
              "<style scoped>\n",
              "    .dataframe tbody tr th:only-of-type {\n",
              "        vertical-align: middle;\n",
              "    }\n",
              "\n",
              "    .dataframe tbody tr th {\n",
              "        vertical-align: top;\n",
              "    }\n",
              "\n",
              "    .dataframe thead th {\n",
              "        text-align: right;\n",
              "    }\n",
              "</style>\n",
              "<table border=\"1\" class=\"dataframe\">\n",
              "  <thead>\n",
              "    <tr style=\"text-align: right;\">\n",
              "      <th></th>\n",
              "      <th>age</th>\n",
              "      <th>gender</th>\n",
              "      <th>region_category</th>\n",
              "      <th>membership_category</th>\n",
              "      <th>joined_through_referral</th>\n",
              "      <th>referral_id</th>\n",
              "      <th>preferred_offer_types</th>\n",
              "      <th>medium_of_operation</th>\n",
              "      <th>internet_option</th>\n",
              "      <th>days_since_last_login</th>\n",
              "      <th>avg_time_spent</th>\n",
              "      <th>avg_transaction_value</th>\n",
              "      <th>avg_frequency_login_days</th>\n",
              "      <th>points_in_wallet</th>\n",
              "      <th>used_special_discount</th>\n",
              "      <th>offer_application_preference</th>\n",
              "      <th>past_complaint</th>\n",
              "      <th>complaint_status</th>\n",
              "      <th>feedback</th>\n",
              "      <th>churn_risk_score</th>\n",
              "    </tr>\n",
              "  </thead>\n",
              "  <tbody>\n",
              "    <tr>\n",
              "      <th>0</th>\n",
              "      <td>18</td>\n",
              "      <td>F</td>\n",
              "      <td>Village</td>\n",
              "      <td>Platinum Membership</td>\n",
              "      <td>No</td>\n",
              "      <td>xxxxxxxx</td>\n",
              "      <td>Gift Vouchers/Coupons</td>\n",
              "      <td>?</td>\n",
              "      <td>Wi-Fi</td>\n",
              "      <td>17</td>\n",
              "      <td>300.630000</td>\n",
              "      <td>53005.25</td>\n",
              "      <td>17.0</td>\n",
              "      <td>781.750000</td>\n",
              "      <td>Yes</td>\n",
              "      <td>Yes</td>\n",
              "      <td>No</td>\n",
              "      <td>Not Applicable</td>\n",
              "      <td>Products always in Stock</td>\n",
              "      <td>2</td>\n",
              "    </tr>\n",
              "    <tr>\n",
              "      <th>1</th>\n",
              "      <td>32</td>\n",
              "      <td>F</td>\n",
              "      <td>City</td>\n",
              "      <td>Premium Membership</td>\n",
              "      <td>?</td>\n",
              "      <td>CID21329</td>\n",
              "      <td>Gift Vouchers/Coupons</td>\n",
              "      <td>Desktop</td>\n",
              "      <td>Mobile_Data</td>\n",
              "      <td>16</td>\n",
              "      <td>306.340000</td>\n",
              "      <td>12838.38</td>\n",
              "      <td>10.0</td>\n",
              "      <td>NaN</td>\n",
              "      <td>Yes</td>\n",
              "      <td>No</td>\n",
              "      <td>Yes</td>\n",
              "      <td>Solved</td>\n",
              "      <td>Quality Customer Care</td>\n",
              "      <td>1</td>\n",
              "    </tr>\n",
              "    <tr>\n",
              "      <th>2</th>\n",
              "      <td>44</td>\n",
              "      <td>F</td>\n",
              "      <td>Town</td>\n",
              "      <td>No Membership</td>\n",
              "      <td>Yes</td>\n",
              "      <td>CID12313</td>\n",
              "      <td>Gift Vouchers/Coupons</td>\n",
              "      <td>Desktop</td>\n",
              "      <td>Wi-Fi</td>\n",
              "      <td>14</td>\n",
              "      <td>516.160000</td>\n",
              "      <td>21027.00</td>\n",
              "      <td>22.0</td>\n",
              "      <td>500.690000</td>\n",
              "      <td>No</td>\n",
              "      <td>Yes</td>\n",
              "      <td>Yes</td>\n",
              "      <td>Solved in Follow-up</td>\n",
              "      <td>Poor Website</td>\n",
              "      <td>5</td>\n",
              "    </tr>\n",
              "    <tr>\n",
              "      <th>3</th>\n",
              "      <td>37</td>\n",
              "      <td>M</td>\n",
              "      <td>City</td>\n",
              "      <td>No Membership</td>\n",
              "      <td>Yes</td>\n",
              "      <td>CID3793</td>\n",
              "      <td>Gift Vouchers/Coupons</td>\n",
              "      <td>Desktop</td>\n",
              "      <td>Mobile_Data</td>\n",
              "      <td>11</td>\n",
              "      <td>53.270000</td>\n",
              "      <td>25239.56</td>\n",
              "      <td>6.0</td>\n",
              "      <td>567.660000</td>\n",
              "      <td>No</td>\n",
              "      <td>Yes</td>\n",
              "      <td>Yes</td>\n",
              "      <td>Unsolved</td>\n",
              "      <td>Poor Website</td>\n",
              "      <td>5</td>\n",
              "    </tr>\n",
              "    <tr>\n",
              "      <th>4</th>\n",
              "      <td>31</td>\n",
              "      <td>F</td>\n",
              "      <td>City</td>\n",
              "      <td>No Membership</td>\n",
              "      <td>No</td>\n",
              "      <td>xxxxxxxx</td>\n",
              "      <td>Credit/Debit Card Offers</td>\n",
              "      <td>Smartphone</td>\n",
              "      <td>Mobile_Data</td>\n",
              "      <td>20</td>\n",
              "      <td>113.130000</td>\n",
              "      <td>24483.66</td>\n",
              "      <td>16.0</td>\n",
              "      <td>663.060000</td>\n",
              "      <td>No</td>\n",
              "      <td>Yes</td>\n",
              "      <td>Yes</td>\n",
              "      <td>Solved</td>\n",
              "      <td>Poor Website</td>\n",
              "      <td>5</td>\n",
              "    </tr>\n",
              "    <tr>\n",
              "      <th>...</th>\n",
              "      <td>...</td>\n",
              "      <td>...</td>\n",
              "      <td>...</td>\n",
              "      <td>...</td>\n",
              "      <td>...</td>\n",
              "      <td>...</td>\n",
              "      <td>...</td>\n",
              "      <td>...</td>\n",
              "      <td>...</td>\n",
              "      <td>...</td>\n",
              "      <td>...</td>\n",
              "      <td>...</td>\n",
              "      <td>...</td>\n",
              "      <td>...</td>\n",
              "      <td>...</td>\n",
              "      <td>...</td>\n",
              "      <td>...</td>\n",
              "      <td>...</td>\n",
              "      <td>...</td>\n",
              "      <td>...</td>\n",
              "    </tr>\n",
              "    <tr>\n",
              "      <th>36987</th>\n",
              "      <td>46</td>\n",
              "      <td>F</td>\n",
              "      <td>NaN</td>\n",
              "      <td>Basic Membership</td>\n",
              "      <td>No</td>\n",
              "      <td>xxxxxxxx</td>\n",
              "      <td>Credit/Debit Card Offers</td>\n",
              "      <td>Desktop</td>\n",
              "      <td>Wi-Fi</td>\n",
              "      <td>2</td>\n",
              "      <td>-650.682759</td>\n",
              "      <td>27277.68</td>\n",
              "      <td>6.0</td>\n",
              "      <td>639.510000</td>\n",
              "      <td>No</td>\n",
              "      <td>Yes</td>\n",
              "      <td>Yes</td>\n",
              "      <td>No Information Available</td>\n",
              "      <td>No reason specified</td>\n",
              "      <td>4</td>\n",
              "    </tr>\n",
              "    <tr>\n",
              "      <th>36988</th>\n",
              "      <td>29</td>\n",
              "      <td>F</td>\n",
              "      <td>Town</td>\n",
              "      <td>Basic Membership</td>\n",
              "      <td>No</td>\n",
              "      <td>xxxxxxxx</td>\n",
              "      <td>Without Offers</td>\n",
              "      <td>Smartphone</td>\n",
              "      <td>Wi-Fi</td>\n",
              "      <td>13</td>\n",
              "      <td>-638.123421</td>\n",
              "      <td>11069.71</td>\n",
              "      <td>28.0</td>\n",
              "      <td>527.990000</td>\n",
              "      <td>Yes</td>\n",
              "      <td>No</td>\n",
              "      <td>No</td>\n",
              "      <td>Not Applicable</td>\n",
              "      <td>Poor Customer Service</td>\n",
              "      <td>5</td>\n",
              "    </tr>\n",
              "    <tr>\n",
              "      <th>36989</th>\n",
              "      <td>23</td>\n",
              "      <td>F</td>\n",
              "      <td>NaN</td>\n",
              "      <td>Basic Membership</td>\n",
              "      <td>Yes</td>\n",
              "      <td>CID3838</td>\n",
              "      <td>Gift Vouchers/Coupons</td>\n",
              "      <td>Desktop</td>\n",
              "      <td>Wi-Fi</td>\n",
              "      <td>12</td>\n",
              "      <td>154.940000</td>\n",
              "      <td>38127.56</td>\n",
              "      <td>Error</td>\n",
              "      <td>680.470000</td>\n",
              "      <td>No</td>\n",
              "      <td>Yes</td>\n",
              "      <td>Yes</td>\n",
              "      <td>Unsolved</td>\n",
              "      <td>Poor Website</td>\n",
              "      <td>4</td>\n",
              "    </tr>\n",
              "    <tr>\n",
              "      <th>36990</th>\n",
              "      <td>53</td>\n",
              "      <td>M</td>\n",
              "      <td>Village</td>\n",
              "      <td>Platinum Membership</td>\n",
              "      <td>No</td>\n",
              "      <td>xxxxxxxx</td>\n",
              "      <td>Gift Vouchers/Coupons</td>\n",
              "      <td>Smartphone</td>\n",
              "      <td>Mobile_Data</td>\n",
              "      <td>15</td>\n",
              "      <td>482.610000</td>\n",
              "      <td>2378.86</td>\n",
              "      <td>20.0</td>\n",
              "      <td>197.264414</td>\n",
              "      <td>Yes</td>\n",
              "      <td>Yes</td>\n",
              "      <td>No</td>\n",
              "      <td>Not Applicable</td>\n",
              "      <td>No reason specified</td>\n",
              "      <td>3</td>\n",
              "    </tr>\n",
              "    <tr>\n",
              "      <th>36991</th>\n",
              "      <td>35</td>\n",
              "      <td>M</td>\n",
              "      <td>Town</td>\n",
              "      <td>Silver Membership</td>\n",
              "      <td>No</td>\n",
              "      <td>xxxxxxxx</td>\n",
              "      <td>Gift Vouchers/Coupons</td>\n",
              "      <td>Desktop</td>\n",
              "      <td>Mobile_Data</td>\n",
              "      <td>15</td>\n",
              "      <td>79.180000</td>\n",
              "      <td>2189.68</td>\n",
              "      <td>Error</td>\n",
              "      <td>719.970000</td>\n",
              "      <td>Yes</td>\n",
              "      <td>No</td>\n",
              "      <td>No</td>\n",
              "      <td>Not Applicable</td>\n",
              "      <td>Quality Customer Care</td>\n",
              "      <td>2</td>\n",
              "    </tr>\n",
              "  </tbody>\n",
              "</table>\n",
              "<p>36992 rows × 20 columns</p>\n",
              "</div>\n",
              "      <button class=\"colab-df-convert\" onclick=\"convertToInteractive('df-9390118e-e8b2-47db-91ff-d98bd777e30c')\"\n",
              "              title=\"Convert this dataframe to an interactive table.\"\n",
              "              style=\"display:none;\">\n",
              "        \n",
              "  <svg xmlns=\"http://www.w3.org/2000/svg\" height=\"24px\"viewBox=\"0 0 24 24\"\n",
              "       width=\"24px\">\n",
              "    <path d=\"M0 0h24v24H0V0z\" fill=\"none\"/>\n",
              "    <path d=\"M18.56 5.44l.94 2.06.94-2.06 2.06-.94-2.06-.94-.94-2.06-.94 2.06-2.06.94zm-11 1L8.5 8.5l.94-2.06 2.06-.94-2.06-.94L8.5 2.5l-.94 2.06-2.06.94zm10 10l.94 2.06.94-2.06 2.06-.94-2.06-.94-.94-2.06-.94 2.06-2.06.94z\"/><path d=\"M17.41 7.96l-1.37-1.37c-.4-.4-.92-.59-1.43-.59-.52 0-1.04.2-1.43.59L10.3 9.45l-7.72 7.72c-.78.78-.78 2.05 0 2.83L4 21.41c.39.39.9.59 1.41.59.51 0 1.02-.2 1.41-.59l7.78-7.78 2.81-2.81c.8-.78.8-2.07 0-2.86zM5.41 20L4 18.59l7.72-7.72 1.47 1.35L5.41 20z\"/>\n",
              "  </svg>\n",
              "      </button>\n",
              "      \n",
              "  <style>\n",
              "    .colab-df-container {\n",
              "      display:flex;\n",
              "      flex-wrap:wrap;\n",
              "      gap: 12px;\n",
              "    }\n",
              "\n",
              "    .colab-df-convert {\n",
              "      background-color: #E8F0FE;\n",
              "      border: none;\n",
              "      border-radius: 50%;\n",
              "      cursor: pointer;\n",
              "      display: none;\n",
              "      fill: #1967D2;\n",
              "      height: 32px;\n",
              "      padding: 0 0 0 0;\n",
              "      width: 32px;\n",
              "    }\n",
              "\n",
              "    .colab-df-convert:hover {\n",
              "      background-color: #E2EBFA;\n",
              "      box-shadow: 0px 1px 2px rgba(60, 64, 67, 0.3), 0px 1px 3px 1px rgba(60, 64, 67, 0.15);\n",
              "      fill: #174EA6;\n",
              "    }\n",
              "\n",
              "    [theme=dark] .colab-df-convert {\n",
              "      background-color: #3B4455;\n",
              "      fill: #D2E3FC;\n",
              "    }\n",
              "\n",
              "    [theme=dark] .colab-df-convert:hover {\n",
              "      background-color: #434B5C;\n",
              "      box-shadow: 0px 1px 3px 1px rgba(0, 0, 0, 0.15);\n",
              "      filter: drop-shadow(0px 1px 2px rgba(0, 0, 0, 0.3));\n",
              "      fill: #FFFFFF;\n",
              "    }\n",
              "  </style>\n",
              "\n",
              "      <script>\n",
              "        const buttonEl =\n",
              "          document.querySelector('#df-9390118e-e8b2-47db-91ff-d98bd777e30c button.colab-df-convert');\n",
              "        buttonEl.style.display =\n",
              "          google.colab.kernel.accessAllowed ? 'block' : 'none';\n",
              "\n",
              "        async function convertToInteractive(key) {\n",
              "          const element = document.querySelector('#df-9390118e-e8b2-47db-91ff-d98bd777e30c');\n",
              "          const dataTable =\n",
              "            await google.colab.kernel.invokeFunction('convertToInteractive',\n",
              "                                                     [key], {});\n",
              "          if (!dataTable) return;\n",
              "\n",
              "          const docLinkHtml = 'Like what you see? Visit the ' +\n",
              "            '<a target=\"_blank\" href=https://colab.research.google.com/notebooks/data_table.ipynb>data table notebook</a>'\n",
              "            + ' to learn more about interactive tables.';\n",
              "          element.innerHTML = '';\n",
              "          dataTable['output_type'] = 'display_data';\n",
              "          await google.colab.output.renderOutput(dataTable, element);\n",
              "          const docLink = document.createElement('div');\n",
              "          docLink.innerHTML = docLinkHtml;\n",
              "          element.appendChild(docLink);\n",
              "        }\n",
              "      </script>\n",
              "    </div>\n",
              "  </div>\n",
              "  "
            ]
          },
          "metadata": {},
          "execution_count": 83
        }
      ]
    },
    {
      "cell_type": "markdown",
      "source": [
        "**Feature Selection using Decision Tree**"
      ],
      "metadata": {
        "id": "sJXZ7rhDnUoi"
      }
    },
    {
      "cell_type": "markdown",
      "source": [
        "Basis data processing on temporary data field for selecting feature"
      ],
      "metadata": {
        "id": "r1xneTSfnmXD"
      }
    },
    {
      "cell_type": "code",
      "execution_count": null,
      "metadata": {
        "id": "BsLrFNP-8Kox"
      },
      "outputs": [],
      "source": [
        "def basic_preprocessing(df):\n",
        "    \"\"\"\n",
        "    Preprocess your data (eg. Drop null datapoints or fill missing data)\n",
        "    :param df: pandas DataFrame\n",
        "    :return: pandas DataFrame\n",
        "    \"\"\"\n",
        "\n",
        "    #Drop invalid records\n",
        "    df = df[df.gender != 'Unknown']\n",
        "    df = df[df.preferred_offer_types.isnull() == False]\n",
        "\n",
        "    df = df[df.region_category.isnull() == False]\n",
        "    df = df[df.medium_of_operation != '?']\n",
        "\n",
        "    df = df[df.points_in_wallet.isnull() == False]\n",
        "    df = df[df.points_in_wallet >= 0]\n",
        "\n",
        "    df = df[df.avg_frequency_login_days != 'Error']\n",
        "    df.avg_frequency_login_days = df.avg_frequency_login_days.astype('float64')\n",
        "    df = df[df.avg_frequency_login_days >= 0]\n",
        "\n",
        "    df = df[df.days_since_last_login >= 0]\n",
        "\n",
        "    df = df[df.avg_time_spent >= 0]\n",
        "\n",
        "    df = df[df.churn_risk_score > 0]\n",
        "\n",
        "    #Replace values\n",
        "    df = df[(df.referral_id != 'xxxxxxxx') | (df.joined_through_referral != '?')]\n",
        "    df.joined_through_referral[df.referral_id != 'xxxxxxxx'] = 'Yes'\n",
        "    df = df.drop(columns = 'referral_id')\n",
        "\n",
        "    #Reduce number of category\n",
        "    df.feedback = df.feedback.replace(negative, 'Negative')\n",
        "    df.feedback = df.feedback.replace(neutral, 'Neutral')\n",
        "    df.feedback = df.feedback.replace(positive, 'Positive')\n",
        "\n",
        "    return df"
      ]
    },
    {
      "cell_type": "code",
      "execution_count": null,
      "metadata": {
        "id": "dei_gmKb8Koy"
      },
      "outputs": [],
      "source": [
        "temp_df = basic_preprocessing(df.copy())"
      ]
    },
    {
      "cell_type": "code",
      "execution_count": null,
      "metadata": {
        "colab": {
          "base_uri": "https://localhost:8080/"
        },
        "id": "PS4rYjwet7Jq",
        "outputId": "d476a5d5-0f12-4562-dd6a-f317321a80f2"
      },
      "outputs": [
        {
          "output_type": "stream",
          "name": "stdout",
          "text": [
            "<class 'pandas.core.frame.DataFrame'>\n",
            "Int64Index: 18382 entries, 2 to 36990\n",
            "Data columns (total 19 columns):\n",
            " #   Column                        Non-Null Count  Dtype  \n",
            "---  ------                        --------------  -----  \n",
            " 0   age                           18382 non-null  int64  \n",
            " 1   gender                        18382 non-null  object \n",
            " 2   region_category               18382 non-null  object \n",
            " 3   membership_category           18382 non-null  object \n",
            " 4   joined_through_referral       18382 non-null  object \n",
            " 5   preferred_offer_types         18382 non-null  object \n",
            " 6   medium_of_operation           18382 non-null  object \n",
            " 7   internet_option               18382 non-null  object \n",
            " 8   days_since_last_login         18382 non-null  int64  \n",
            " 9   avg_time_spent                18382 non-null  float64\n",
            " 10  avg_transaction_value         18382 non-null  float64\n",
            " 11  avg_frequency_login_days      18382 non-null  float64\n",
            " 12  points_in_wallet              18382 non-null  float64\n",
            " 13  used_special_discount         18382 non-null  object \n",
            " 14  offer_application_preference  18382 non-null  object \n",
            " 15  past_complaint                18382 non-null  object \n",
            " 16  complaint_status              18382 non-null  object \n",
            " 17  feedback                      18382 non-null  object \n",
            " 18  churn_risk_score              18382 non-null  int64  \n",
            "dtypes: float64(4), int64(3), object(12)\n",
            "memory usage: 2.8+ MB\n"
          ]
        }
      ],
      "source": [
        "temp_df.info()"
      ]
    },
    {
      "cell_type": "code",
      "execution_count": null,
      "metadata": {
        "id": "6VQVAmTx8Koy"
      },
      "outputs": [],
      "source": [
        "# Heatmap\n",
        "import seaborn as sns\n",
        "\n",
        "def apply_feature_engineering(df):\n",
        "    \"\"\"\n",
        "    Apply all feature engineering to transform your data into number\n",
        "    :param df: pandas DataFrame\n",
        "    :return: pandas DataFrame\n",
        "    \"\"\"\n",
        "    # Todo: Normalize your data\n",
        "\n",
        "    #Ordinal variable transform\n",
        "\n",
        "    membership_category = ['No Membership', 'Basic Membership', 'Silver Membership', 'Gold Membership', 'Platinum Membership', 'Premium Membership']\n",
        "    df.membership_category = df.membership_category.replace(membership_category, np.arange(len(membership_category))).astype('int64')\n",
        "\n",
        "    feedback = ['Negative', 'Neutral', 'Positive']\n",
        "    df.feedback = df.feedback.replace(feedback, np.arange(len(feedback))).astype('int64')\n",
        "\n",
        "    #Other categories transform\n",
        "    for col in df.columns:\n",
        "      if df[col].dtype == 'object':\n",
        "        df[col] = df[col].factorize()[0]\n",
        "\n",
        "    return df"
      ]
    },
    {
      "cell_type": "code",
      "source": [
        "temp_df = apply_feature_engineering(temp_df)\n",
        "sns.heatmap(temp_df.corr())"
      ],
      "metadata": {
        "colab": {
          "base_uri": "https://localhost:8080/",
          "height": 637
        },
        "id": "IeD1IiVhtyV3",
        "outputId": "7a8ca355-8846-484b-d36b-484d53ad0638"
      },
      "execution_count": null,
      "outputs": [
        {
          "output_type": "execute_result",
          "data": {
            "text/plain": [
              "<Axes: >"
            ]
          },
          "metadata": {},
          "execution_count": 88
        },
        {
          "output_type": "display_data",
          "data": {
            "text/plain": [
              "<Figure size 640x480 with 2 Axes>"
            ],
            "image/png": "[encoded data removed]"
          },
          "metadata": {}
        }
      ]
    },
    {
      "cell_type": "code",
      "execution_count": null,
      "metadata": {
        "id": "kWoZ3iLO8Koz"
      },
      "outputs": [],
      "source": [
        "def prepare_X_y(df):\n",
        "    \"\"\"\n",
        "    Feature engineering and create X and y\n",
        "    :param df: pandas dataframe\n",
        "    :return: (X, y) output feature matrix (dataframe), target (series)\n",
        "    \"\"\"\n",
        "    data = df.to_numpy()\n",
        "    # Todo: Split data into X and y (using sklearn train_test_split). Return two dataframes\n",
        "    X = data[:,:-1] # Todo: Select features\n",
        "    y = data[:,-1] # Todo: Select label\n",
        "    return X, y"
      ]
    },
    {
      "cell_type": "code",
      "execution_count": null,
      "metadata": {
        "colab": {
          "base_uri": "https://localhost:8080/"
        },
        "id": "28xGVIQpKGiU",
        "outputId": "cd13b59c-96d5-4132-8ea5-f10ed649c2f5"
      },
      "outputs": [
        {
          "output_type": "execute_result",
          "data": {
            "text/plain": [
              "((18382, 18), (18382,))"
            ]
          },
          "metadata": {},
          "execution_count": 90
        }
      ],
      "source": [
        "data, label = prepare_X_y(temp_df)\n",
        "data.shape, label.shape"
      ]
    },
    {
      "cell_type": "markdown",
      "source": [
        "**Determine what feature should be use**"
      ],
      "metadata": {
        "id": "I0Sp2V2ysV4r"
      }
    },
    {
      "cell_type": "markdown",
      "source": [
        "Unlike Decision Tree, SVM really needs the feature selection process because it use all the input data."
      ],
      "metadata": {
        "id": "XHS7HyjAkAnp"
      }
    },
    {
      "cell_type": "code",
      "source": [
        "from sklearn.preprocessing import StandardScaler\n",
        "from sklearn.tree import DecisionTreeClassifier\n",
        "\n",
        "scaler = StandardScaler()\n",
        "scaled_data = scaler.fit_transform(data)\n",
        "model = DecisionTreeClassifier()\n",
        "model.fit(scaled_data, label)\n",
        "pd.DataFrame(np.transpose( (temp_df.columns[:-1], model.feature_importances_) )).sort_values(by = 1)"
      ],
      "metadata": {
        "id": "YpDU-1_AfF2y",
        "colab": {
          "base_uri": "https://localhost:8080/",
          "height": 613
        },
        "outputId": "ed3a1a86-b1ac-4bed-fa55-31205d5cfb86"
      },
      "execution_count": null,
      "outputs": [
        {
          "output_type": "execute_result",
          "data": {
            "text/plain": [
              "                               0         1\n",
              "13         used_special_discount  0.002642\n",
              "15                past_complaint  0.002956\n",
              "4        joined_through_referral  0.003375\n",
              "14  offer_application_preference  0.004308\n",
              "6            medium_of_operation   0.00457\n",
              "1                         gender  0.005562\n",
              "2                region_category  0.005605\n",
              "7                internet_option  0.006656\n",
              "5          preferred_offer_types  0.007498\n",
              "16              complaint_status  0.008809\n",
              "11      avg_frequency_login_days  0.028288\n",
              "8          days_since_last_login  0.029235\n",
              "0                            age  0.034857\n",
              "9                 avg_time_spent  0.042304\n",
              "10         avg_transaction_value  0.045401\n",
              "17                      feedback  0.162336\n",
              "3            membership_category  0.277716\n",
              "12              points_in_wallet  0.327884"
            ],
            "text/html": [
              "\n",
              "  <div id=\"df-f13e63b6-a349-48c1-9eb6-57ede3269fc2\">\n",
              "    <div class=\"colab-df-container\">\n",
              "      <div>\n",
              "<style scoped>\n",
              "    .dataframe tbody tr th:only-of-type {\n",
              "        vertical-align: middle;\n",
              "    }\n",
              "\n",
              "    .dataframe tbody tr th {\n",
              "        vertical-align: top;\n",
              "    }\n",
              "\n",
              "    .dataframe thead th {\n",
              "        text-align: right;\n",
              "    }\n",
              "</style>\n",
              "<table border=\"1\" class=\"dataframe\">\n",
              "  <thead>\n",
              "    <tr style=\"text-align: right;\">\n",
              "      <th></th>\n",
              "      <th>0</th>\n",
              "      <th>1</th>\n",
              "    </tr>\n",
              "  </thead>\n",
              "  <tbody>\n",
              "    <tr>\n",
              "      <th>13</th>\n",
              "      <td>used_special_discount</td>\n",
              "      <td>0.002642</td>\n",
              "    </tr>\n",
              "    <tr>\n",
              "      <th>15</th>\n",
              "      <td>past_complaint</td>\n",
              "      <td>0.002956</td>\n",
              "    </tr>\n",
              "    <tr>\n",
              "      <th>4</th>\n",
              "      <td>joined_through_referral</td>\n",
              "      <td>0.003375</td>\n",
              "    </tr>\n",
              "    <tr>\n",
              "      <th>14</th>\n",
              "      <td>offer_application_preference</td>\n",
              "      <td>0.004308</td>\n",
              "    </tr>\n",
              "    <tr>\n",
              "      <th>6</th>\n",
              "      <td>medium_of_operation</td>\n",
              "      <td>0.00457</td>\n",
              "    </tr>\n",
              "    <tr>\n",
              "      <th>1</th>\n",
              "      <td>gender</td>\n",
              "      <td>0.005562</td>\n",
              "    </tr>\n",
              "    <tr>\n",
              "      <th>2</th>\n",
              "      <td>region_category</td>\n",
              "      <td>0.005605</td>\n",
              "    </tr>\n",
              "    <tr>\n",
              "      <th>7</th>\n",
              "      <td>internet_option</td>\n",
              "      <td>0.006656</td>\n",
              "    </tr>\n",
              "    <tr>\n",
              "      <th>5</th>\n",
              "      <td>preferred_offer_types</td>\n",
              "      <td>0.007498</td>\n",
              "    </tr>\n",
              "    <tr>\n",
              "      <th>16</th>\n",
              "      <td>complaint_status</td>\n",
              "      <td>0.008809</td>\n",
              "    </tr>\n",
              "    <tr>\n",
              "      <th>11</th>\n",
              "      <td>avg_frequency_login_days</td>\n",
              "      <td>0.028288</td>\n",
              "    </tr>\n",
              "    <tr>\n",
              "      <th>8</th>\n",
              "      <td>days_since_last_login</td>\n",
              "      <td>0.029235</td>\n",
              "    </tr>\n",
              "    <tr>\n",
              "      <th>0</th>\n",
              "      <td>age</td>\n",
              "      <td>0.034857</td>\n",
              "    </tr>\n",
              "    <tr>\n",
              "      <th>9</th>\n",
              "      <td>avg_time_spent</td>\n",
              "      <td>0.042304</td>\n",
              "    </tr>\n",
              "    <tr>\n",
              "      <th>10</th>\n",
              "      <td>avg_transaction_value</td>\n",
              "      <td>0.045401</td>\n",
              "    </tr>\n",
              "    <tr>\n",
              "      <th>17</th>\n",
              "      <td>feedback</td>\n",
              "      <td>0.162336</td>\n",
              "    </tr>\n",
              "    <tr>\n",
              "      <th>3</th>\n",
              "      <td>membership_category</td>\n",
              "      <td>0.277716</td>\n",
              "    </tr>\n",
              "    <tr>\n",
              "      <th>12</th>\n",
              "      <td>points_in_wallet</td>\n",
              "      <td>0.327884</td>\n",
              "    </tr>\n",
              "  </tbody>\n",
              "</table>\n",
              "</div>\n",
              "      <button class=\"colab-df-convert\" onclick=\"convertToInteractive('df-f13e63b6-a349-48c1-9eb6-57ede3269fc2')\"\n",
              "              title=\"Convert this dataframe to an interactive table.\"\n",
              "              style=\"display:none;\">\n",
              "        \n",
              "  <svg xmlns=\"http://www.w3.org/2000/svg\" height=\"24px\"viewBox=\"0 0 24 24\"\n",
              "       width=\"24px\">\n",
              "    <path d=\"M0 0h24v24H0V0z\" fill=\"none\"/>\n",
              "    <path d=\"M18.56 5.44l.94 2.06.94-2.06 2.06-.94-2.06-.94-.94-2.06-.94 2.06-2.06.94zm-11 1L8.5 8.5l.94-2.06 2.06-.94-2.06-.94L8.5 2.5l-.94 2.06-2.06.94zm10 10l.94 2.06.94-2.06 2.06-.94-2.06-.94-.94-2.06-.94 2.06-2.06.94z\"/><path d=\"M17.41 7.96l-1.37-1.37c-.4-.4-.92-.59-1.43-.59-.52 0-1.04.2-1.43.59L10.3 9.45l-7.72 7.72c-.78.78-.78 2.05 0 2.83L4 21.41c.39.39.9.59 1.41.59.51 0 1.02-.2 1.41-.59l7.78-7.78 2.81-2.81c.8-.78.8-2.07 0-2.86zM5.41 20L4 18.59l7.72-7.72 1.47 1.35L5.41 20z\"/>\n",
              "  </svg>\n",
              "      </button>\n",
              "      \n",
              "  <style>\n",
              "    .colab-df-container {\n",
              "      display:flex;\n",
              "      flex-wrap:wrap;\n",
              "      gap: 12px;\n",
              "    }\n",
              "\n",
              "    .colab-df-convert {\n",
              "      background-color: #E8F0FE;\n",
              "      border: none;\n",
              "      border-radius: 50%;\n",
              "      cursor: pointer;\n",
              "      display: none;\n",
              "      fill: #1967D2;\n",
              "      height: 32px;\n",
              "      padding: 0 0 0 0;\n",
              "      width: 32px;\n",
              "    }\n",
              "\n",
              "    .colab-df-convert:hover {\n",
              "      background-color: #E2EBFA;\n",
              "      box-shadow: 0px 1px 2px rgba(60, 64, 67, 0.3), 0px 1px 3px 1px rgba(60, 64, 67, 0.15);\n",
              "      fill: #174EA6;\n",
              "    }\n",
              "\n",
              "    [theme=dark] .colab-df-convert {\n",
              "      background-color: #3B4455;\n",
              "      fill: #D2E3FC;\n",
              "    }\n",
              "\n",
              "    [theme=dark] .colab-df-convert:hover {\n",
              "      background-color: #434B5C;\n",
              "      box-shadow: 0px 1px 3px 1px rgba(0, 0, 0, 0.15);\n",
              "      filter: drop-shadow(0px 1px 2px rgba(0, 0, 0, 0.3));\n",
              "      fill: #FFFFFF;\n",
              "    }\n",
              "  </style>\n",
              "\n",
              "      <script>\n",
              "        const buttonEl =\n",
              "          document.querySelector('#df-f13e63b6-a349-48c1-9eb6-57ede3269fc2 button.colab-df-convert');\n",
              "        buttonEl.style.display =\n",
              "          google.colab.kernel.accessAllowed ? 'block' : 'none';\n",
              "\n",
              "        async function convertToInteractive(key) {\n",
              "          const element = document.querySelector('#df-f13e63b6-a349-48c1-9eb6-57ede3269fc2');\n",
              "          const dataTable =\n",
              "            await google.colab.kernel.invokeFunction('convertToInteractive',\n",
              "                                                     [key], {});\n",
              "          if (!dataTable) return;\n",
              "\n",
              "          const docLinkHtml = 'Like what you see? Visit the ' +\n",
              "            '<a target=\"_blank\" href=https://colab.research.google.com/notebooks/data_table.ipynb>data table notebook</a>'\n",
              "            + ' to learn more about interactive tables.';\n",
              "          element.innerHTML = '';\n",
              "          dataTable['output_type'] = 'display_data';\n",
              "          await google.colab.output.renderOutput(dataTable, element);\n",
              "          const docLink = document.createElement('div');\n",
              "          docLink.innerHTML = docLinkHtml;\n",
              "          element.appendChild(docLink);\n",
              "        }\n",
              "      </script>\n",
              "    </div>\n",
              "  </div>\n",
              "  "
            ]
          },
          "metadata": {},
          "execution_count": 91
        }
      ]
    },
    {
      "cell_type": "markdown",
      "source": [
        "Eliminate feature with Decision Tree Feature Importance lower than 0.01. Almost every categorical data is not much helpful in predicting churn risk score."
      ],
      "metadata": {
        "id": "10UxxowCsr15"
      }
    },
    {
      "cell_type": "code",
      "source": [
        "drop_list = ['past_complaint', 'gender', 'used_special_discount', 'joined_through_referral', 'offer_application_preference', 'internet_option', 'preferred_offer_types', 'complaint_status', 'region_category', 'medium_of_operation']\n",
        "temp_df.drop(columns = drop_list, inplace = True)\n",
        "temp_df"
      ],
      "metadata": {
        "id": "s_4o0d_Szh61",
        "colab": {
          "base_uri": "https://localhost:8080/",
          "height": 423
        },
        "outputId": "9da3c46c-d174-4583-e1d6-98ec9019134d"
      },
      "execution_count": null,
      "outputs": [
        {
          "output_type": "execute_result",
          "data": {
            "text/plain": [
              "       age  membership_category  days_since_last_login  avg_time_spent  \\\n",
              "2       44                    0                     14          516.16   \n",
              "3       37                    0                     11           53.27   \n",
              "4       31                    0                     20          113.13   \n",
              "6       21                    3                     10           55.38   \n",
              "10      25                    1                     14          570.23   \n",
              "...    ...                  ...                    ...             ...   \n",
              "36983   45                    1                      9           49.33   \n",
              "36984   51                    3                     24          312.33   \n",
              "36985   12                    5                     13          418.38   \n",
              "36986   27                    4                     13          135.83   \n",
              "36990   53                    4                     15          482.61   \n",
              "\n",
              "       avg_transaction_value  avg_frequency_login_days  points_in_wallet  \\\n",
              "2                   21027.00                      22.0        500.690000   \n",
              "3                   25239.56                       6.0        567.660000   \n",
              "4                   24483.66                      16.0        663.060000   \n",
              "6                    8982.50                      28.0        756.210000   \n",
              "10                  35119.93                       8.0        699.700000   \n",
              "...                      ...                       ...               ...   \n",
              "36983               45358.49                      11.0        242.979625   \n",
              "36984               63446.71                       2.0        778.700000   \n",
              "36985               56397.21                       7.0        725.890000   \n",
              "36986                8225.68                      16.0        748.570000   \n",
              "36990                2378.86                      20.0        197.264414   \n",
              "\n",
              "       feedback  churn_risk_score  \n",
              "2             0                 5  \n",
              "3             0                 5  \n",
              "4             0                 5  \n",
              "6             1                 3  \n",
              "10            0                 5  \n",
              "...         ...               ...  \n",
              "36983         0                 5  \n",
              "36984         2                 1  \n",
              "36985         2                 2  \n",
              "36986         1                 3  \n",
              "36990         1                 3  \n",
              "\n",
              "[18382 rows x 9 columns]"
            ],
            "text/html": [
              "\n",
              "  <div id=\"df-b83a2021-9c64-414b-9664-30f25bd67750\">\n",
              "    <div class=\"colab-df-container\">\n",
              "      <div>\n",
              "<style scoped>\n",
              "    .dataframe tbody tr th:only-of-type {\n",
              "        vertical-align: middle;\n",
              "    }\n",
              "\n",
              "    .dataframe tbody tr th {\n",
              "        vertical-align: top;\n",
              "    }\n",
              "\n",
              "    .dataframe thead th {\n",
              "        text-align: right;\n",
              "    }\n",
              "</style>\n",
              "<table border=\"1\" class=\"dataframe\">\n",
              "  <thead>\n",
              "    <tr style=\"text-align: right;\">\n",
              "      <th></th>\n",
              "      <th>age</th>\n",
              "      <th>membership_category</th>\n",
              "      <th>days_since_last_login</th>\n",
              "      <th>avg_time_spent</th>\n",
              "      <th>avg_transaction_value</th>\n",
              "      <th>avg_frequency_login_days</th>\n",
              "      <th>points_in_wallet</th>\n",
              "      <th>feedback</th>\n",
              "      <th>churn_risk_score</th>\n",
              "    </tr>\n",
              "  </thead>\n",
              "  <tbody>\n",
              "    <tr>\n",
              "      <th>2</th>\n",
              "      <td>44</td>\n",
              "      <td>0</td>\n",
              "      <td>14</td>\n",
              "      <td>516.16</td>\n",
              "      <td>21027.00</td>\n",
              "      <td>22.0</td>\n",
              "      <td>500.690000</td>\n",
              "      <td>0</td>\n",
              "      <td>5</td>\n",
              "    </tr>\n",
              "    <tr>\n",
              "      <th>3</th>\n",
              "      <td>37</td>\n",
              "      <td>0</td>\n",
              "      <td>11</td>\n",
              "      <td>53.27</td>\n",
              "      <td>25239.56</td>\n",
              "      <td>6.0</td>\n",
              "      <td>567.660000</td>\n",
              "      <td>0</td>\n",
              "      <td>5</td>\n",
              "    </tr>\n",
              "    <tr>\n",
              "      <th>4</th>\n",
              "      <td>31</td>\n",
              "      <td>0</td>\n",
              "      <td>20</td>\n",
              "      <td>113.13</td>\n",
              "      <td>24483.66</td>\n",
              "      <td>16.0</td>\n",
              "      <td>663.060000</td>\n",
              "      <td>0</td>\n",
              "      <td>5</td>\n",
              "    </tr>\n",
              "    <tr>\n",
              "      <th>6</th>\n",
              "      <td>21</td>\n",
              "      <td>3</td>\n",
              "      <td>10</td>\n",
              "      <td>55.38</td>\n",
              "      <td>8982.50</td>\n",
              "      <td>28.0</td>\n",
              "      <td>756.210000</td>\n",
              "      <td>1</td>\n",
              "      <td>3</td>\n",
              "    </tr>\n",
              "    <tr>\n",
              "      <th>10</th>\n",
              "      <td>25</td>\n",
              "      <td>1</td>\n",
              "      <td>14</td>\n",
              "      <td>570.23</td>\n",
              "      <td>35119.93</td>\n",
              "      <td>8.0</td>\n",
              "      <td>699.700000</td>\n",
              "      <td>0</td>\n",
              "      <td>5</td>\n",
              "    </tr>\n",
              "    <tr>\n",
              "      <th>...</th>\n",
              "      <td>...</td>\n",
              "      <td>...</td>\n",
              "      <td>...</td>\n",
              "      <td>...</td>\n",
              "      <td>...</td>\n",
              "      <td>...</td>\n",
              "      <td>...</td>\n",
              "      <td>...</td>\n",
              "      <td>...</td>\n",
              "    </tr>\n",
              "    <tr>\n",
              "      <th>36983</th>\n",
              "      <td>45</td>\n",
              "      <td>1</td>\n",
              "      <td>9</td>\n",
              "      <td>49.33</td>\n",
              "      <td>45358.49</td>\n",
              "      <td>11.0</td>\n",
              "      <td>242.979625</td>\n",
              "      <td>0</td>\n",
              "      <td>5</td>\n",
              "    </tr>\n",
              "    <tr>\n",
              "      <th>36984</th>\n",
              "      <td>51</td>\n",
              "      <td>3</td>\n",
              "      <td>24</td>\n",
              "      <td>312.33</td>\n",
              "      <td>63446.71</td>\n",
              "      <td>2.0</td>\n",
              "      <td>778.700000</td>\n",
              "      <td>2</td>\n",
              "      <td>1</td>\n",
              "    </tr>\n",
              "    <tr>\n",
              "      <th>36985</th>\n",
              "      <td>12</td>\n",
              "      <td>5</td>\n",
              "      <td>13</td>\n",
              "      <td>418.38</td>\n",
              "      <td>56397.21</td>\n",
              "      <td>7.0</td>\n",
              "      <td>725.890000</td>\n",
              "      <td>2</td>\n",
              "      <td>2</td>\n",
              "    </tr>\n",
              "    <tr>\n",
              "      <th>36986</th>\n",
              "      <td>27</td>\n",
              "      <td>4</td>\n",
              "      <td>13</td>\n",
              "      <td>135.83</td>\n",
              "      <td>8225.68</td>\n",
              "      <td>16.0</td>\n",
              "      <td>748.570000</td>\n",
              "      <td>1</td>\n",
              "      <td>3</td>\n",
              "    </tr>\n",
              "    <tr>\n",
              "      <th>36990</th>\n",
              "      <td>53</td>\n",
              "      <td>4</td>\n",
              "      <td>15</td>\n",
              "      <td>482.61</td>\n",
              "      <td>2378.86</td>\n",
              "      <td>20.0</td>\n",
              "      <td>197.264414</td>\n",
              "      <td>1</td>\n",
              "      <td>3</td>\n",
              "    </tr>\n",
              "  </tbody>\n",
              "</table>\n",
              "<p>18382 rows × 9 columns</p>\n",
              "</div>\n",
              "      <button class=\"colab-df-convert\" onclick=\"convertToInteractive('df-b83a2021-9c64-414b-9664-30f25bd67750')\"\n",
              "              title=\"Convert this dataframe to an interactive table.\"\n",
              "              style=\"display:none;\">\n",
              "        \n",
              "  <svg xmlns=\"http://www.w3.org/2000/svg\" height=\"24px\"viewBox=\"0 0 24 24\"\n",
              "       width=\"24px\">\n",
              "    <path d=\"M0 0h24v24H0V0z\" fill=\"none\"/>\n",
              "    <path d=\"M18.56 5.44l.94 2.06.94-2.06 2.06-.94-2.06-.94-.94-2.06-.94 2.06-2.06.94zm-11 1L8.5 8.5l.94-2.06 2.06-.94-2.06-.94L8.5 2.5l-.94 2.06-2.06.94zm10 10l.94 2.06.94-2.06 2.06-.94-2.06-.94-.94-2.06-.94 2.06-2.06.94z\"/><path d=\"M17.41 7.96l-1.37-1.37c-.4-.4-.92-.59-1.43-.59-.52 0-1.04.2-1.43.59L10.3 9.45l-7.72 7.72c-.78.78-.78 2.05 0 2.83L4 21.41c.39.39.9.59 1.41.59.51 0 1.02-.2 1.41-.59l7.78-7.78 2.81-2.81c.8-.78.8-2.07 0-2.86zM5.41 20L4 18.59l7.72-7.72 1.47 1.35L5.41 20z\"/>\n",
              "  </svg>\n",
              "      </button>\n",
              "      \n",
              "  <style>\n",
              "    .colab-df-container {\n",
              "      display:flex;\n",
              "      flex-wrap:wrap;\n",
              "      gap: 12px;\n",
              "    }\n",
              "\n",
              "    .colab-df-convert {\n",
              "      background-color: #E8F0FE;\n",
              "      border: none;\n",
              "      border-radius: 50%;\n",
              "      cursor: pointer;\n",
              "      display: none;\n",
              "      fill: #1967D2;\n",
              "      height: 32px;\n",
              "      padding: 0 0 0 0;\n",
              "      width: 32px;\n",
              "    }\n",
              "\n",
              "    .colab-df-convert:hover {\n",
              "      background-color: #E2EBFA;\n",
              "      box-shadow: 0px 1px 2px rgba(60, 64, 67, 0.3), 0px 1px 3px 1px rgba(60, 64, 67, 0.15);\n",
              "      fill: #174EA6;\n",
              "    }\n",
              "\n",
              "    [theme=dark] .colab-df-convert {\n",
              "      background-color: #3B4455;\n",
              "      fill: #D2E3FC;\n",
              "    }\n",
              "\n",
              "    [theme=dark] .colab-df-convert:hover {\n",
              "      background-color: #434B5C;\n",
              "      box-shadow: 0px 1px 3px 1px rgba(0, 0, 0, 0.15);\n",
              "      filter: drop-shadow(0px 1px 2px rgba(0, 0, 0, 0.3));\n",
              "      fill: #FFFFFF;\n",
              "    }\n",
              "  </style>\n",
              "\n",
              "      <script>\n",
              "        const buttonEl =\n",
              "          document.querySelector('#df-b83a2021-9c64-414b-9664-30f25bd67750 button.colab-df-convert');\n",
              "        buttonEl.style.display =\n",
              "          google.colab.kernel.accessAllowed ? 'block' : 'none';\n",
              "\n",
              "        async function convertToInteractive(key) {\n",
              "          const element = document.querySelector('#df-b83a2021-9c64-414b-9664-30f25bd67750');\n",
              "          const dataTable =\n",
              "            await google.colab.kernel.invokeFunction('convertToInteractive',\n",
              "                                                     [key], {});\n",
              "          if (!dataTable) return;\n",
              "\n",
              "          const docLinkHtml = 'Like what you see? Visit the ' +\n",
              "            '<a target=\"_blank\" href=https://colab.research.google.com/notebooks/data_table.ipynb>data table notebook</a>'\n",
              "            + ' to learn more about interactive tables.';\n",
              "          element.innerHTML = '';\n",
              "          dataTable['output_type'] = 'display_data';\n",
              "          await google.colab.output.renderOutput(dataTable, element);\n",
              "          const docLink = document.createElement('div');\n",
              "          docLink.innerHTML = docLinkHtml;\n",
              "          element.appendChild(docLink);\n",
              "        }\n",
              "      </script>\n",
              "    </div>\n",
              "  </div>\n",
              "  "
            ]
          },
          "metadata": {},
          "execution_count": 92
        }
      ]
    },
    {
      "cell_type": "markdown",
      "metadata": {
        "collapsed": false,
        "id": "flqsM83K8Kox"
      },
      "source": [
        "## Preprocessing"
      ]
    },
    {
      "cell_type": "markdown",
      "source": [
        "After analyzing and trying multiple ways to clean and process the data, it's time to actually do something to the real data.\n",
        "Since almost every categorical (and missing values) data was in the drop list. There are only numerical data which have missing values. Predicting these values using model is complex and time-consuming due to the thing that not only 1 feature have missing values. So let's just fill invalid fields with the median of valid values of the feature."
      ],
      "metadata": {
        "id": "Z8ZWVMgck3OY"
      }
    },
    {
      "cell_type": "code",
      "source": [
        "df.drop(columns = drop_list, inplace = True)\n",
        "df"
      ],
      "metadata": {
        "colab": {
          "base_uri": "https://localhost:8080/",
          "height": 571
        },
        "id": "0Vg0QSvp-CmN",
        "outputId": "12e79b06-c90c-413b-f6f7-fcd6b404df88"
      },
      "execution_count": null,
      "outputs": [
        {
          "output_type": "execute_result",
          "data": {
            "text/plain": [
              "       age  membership_category referral_id  days_since_last_login  \\\n",
              "0       18  Platinum Membership    xxxxxxxx                     17   \n",
              "1       32   Premium Membership    CID21329                     16   \n",
              "2       44        No Membership    CID12313                     14   \n",
              "3       37        No Membership     CID3793                     11   \n",
              "4       31        No Membership    xxxxxxxx                     20   \n",
              "...    ...                  ...         ...                    ...   \n",
              "36987   46     Basic Membership    xxxxxxxx                      2   \n",
              "36988   29     Basic Membership    xxxxxxxx                     13   \n",
              "36989   23     Basic Membership     CID3838                     12   \n",
              "36990   53  Platinum Membership    xxxxxxxx                     15   \n",
              "36991   35    Silver Membership    xxxxxxxx                     15   \n",
              "\n",
              "       avg_time_spent  avg_transaction_value avg_frequency_login_days  \\\n",
              "0          300.630000               53005.25                     17.0   \n",
              "1          306.340000               12838.38                     10.0   \n",
              "2          516.160000               21027.00                     22.0   \n",
              "3           53.270000               25239.56                      6.0   \n",
              "4          113.130000               24483.66                     16.0   \n",
              "...               ...                    ...                      ...   \n",
              "36987     -650.682759               27277.68                      6.0   \n",
              "36988     -638.123421               11069.71                     28.0   \n",
              "36989      154.940000               38127.56                    Error   \n",
              "36990      482.610000                2378.86                     20.0   \n",
              "36991       79.180000                2189.68                    Error   \n",
              "\n",
              "       points_in_wallet                  feedback  churn_risk_score  \n",
              "0            781.750000  Products always in Stock                 2  \n",
              "1                   NaN     Quality Customer Care                 1  \n",
              "2            500.690000              Poor Website                 5  \n",
              "3            567.660000              Poor Website                 5  \n",
              "4            663.060000              Poor Website                 5  \n",
              "...                 ...                       ...               ...  \n",
              "36987        639.510000       No reason specified                 4  \n",
              "36988        527.990000     Poor Customer Service                 5  \n",
              "36989        680.470000              Poor Website                 4  \n",
              "36990        197.264414       No reason specified                 3  \n",
              "36991        719.970000     Quality Customer Care                 2  \n",
              "\n",
              "[36992 rows x 10 columns]"
            ],
            "text/html": [
              "\n",
              "  <div id=\"df-40bd945a-bb25-4e63-b330-09ae622ec9df\">\n",
              "    <div class=\"colab-df-container\">\n",
              "      <div>\n",
              "<style scoped>\n",
              "    .dataframe tbody tr th:only-of-type {\n",
              "        vertical-align: middle;\n",
              "    }\n",
              "\n",
              "    .dataframe tbody tr th {\n",
              "        vertical-align: top;\n",
              "    }\n",
              "\n",
              "    .dataframe thead th {\n",
              "        text-align: right;\n",
              "    }\n",
              "</style>\n",
              "<table border=\"1\" class=\"dataframe\">\n",
              "  <thead>\n",
              "    <tr style=\"text-align: right;\">\n",
              "      <th></th>\n",
              "      <th>age</th>\n",
              "      <th>membership_category</th>\n",
              "      <th>referral_id</th>\n",
              "      <th>days_since_last_login</th>\n",
              "      <th>avg_time_spent</th>\n",
              "      <th>avg_transaction_value</th>\n",
              "      <th>avg_frequency_login_days</th>\n",
              "      <th>points_in_wallet</th>\n",
              "      <th>feedback</th>\n",
              "      <th>churn_risk_score</th>\n",
              "    </tr>\n",
              "  </thead>\n",
              "  <tbody>\n",
              "    <tr>\n",
              "      <th>0</th>\n",
              "      <td>18</td>\n",
              "      <td>Platinum Membership</td>\n",
              "      <td>xxxxxxxx</td>\n",
              "      <td>17</td>\n",
              "      <td>300.630000</td>\n",
              "      <td>53005.25</td>\n",
              "      <td>17.0</td>\n",
              "      <td>781.750000</td>\n",
              "      <td>Products always in Stock</td>\n",
              "      <td>2</td>\n",
              "    </tr>\n",
              "    <tr>\n",
              "      <th>1</th>\n",
              "      <td>32</td>\n",
              "      <td>Premium Membership</td>\n",
              "      <td>CID21329</td>\n",
              "      <td>16</td>\n",
              "      <td>306.340000</td>\n",
              "      <td>12838.38</td>\n",
              "      <td>10.0</td>\n",
              "      <td>NaN</td>\n",
              "      <td>Quality Customer Care</td>\n",
              "      <td>1</td>\n",
              "    </tr>\n",
              "    <tr>\n",
              "      <th>2</th>\n",
              "      <td>44</td>\n",
              "      <td>No Membership</td>\n",
              "      <td>CID12313</td>\n",
              "      <td>14</td>\n",
              "      <td>516.160000</td>\n",
              "      <td>21027.00</td>\n",
              "      <td>22.0</td>\n",
              "      <td>500.690000</td>\n",
              "      <td>Poor Website</td>\n",
              "      <td>5</td>\n",
              "    </tr>\n",
              "    <tr>\n",
              "      <th>3</th>\n",
              "      <td>37</td>\n",
              "      <td>No Membership</td>\n",
              "      <td>CID3793</td>\n",
              "      <td>11</td>\n",
              "      <td>53.270000</td>\n",
              "      <td>25239.56</td>\n",
              "      <td>6.0</td>\n",
              "      <td>567.660000</td>\n",
              "      <td>Poor Website</td>\n",
              "      <td>5</td>\n",
              "    </tr>\n",
              "    <tr>\n",
              "      <th>4</th>\n",
              "      <td>31</td>\n",
              "      <td>No Membership</td>\n",
              "      <td>xxxxxxxx</td>\n",
              "      <td>20</td>\n",
              "      <td>113.130000</td>\n",
              "      <td>24483.66</td>\n",
              "      <td>16.0</td>\n",
              "      <td>663.060000</td>\n",
              "      <td>Poor Website</td>\n",
              "      <td>5</td>\n",
              "    </tr>\n",
              "    <tr>\n",
              "      <th>...</th>\n",
              "      <td>...</td>\n",
              "      <td>...</td>\n",
              "      <td>...</td>\n",
              "      <td>...</td>\n",
              "      <td>...</td>\n",
              "      <td>...</td>\n",
              "      <td>...</td>\n",
              "      <td>...</td>\n",
              "      <td>...</td>\n",
              "      <td>...</td>\n",
              "    </tr>\n",
              "    <tr>\n",
              "      <th>36987</th>\n",
              "      <td>46</td>\n",
              "      <td>Basic Membership</td>\n",
              "      <td>xxxxxxxx</td>\n",
              "      <td>2</td>\n",
              "      <td>-650.682759</td>\n",
              "      <td>27277.68</td>\n",
              "      <td>6.0</td>\n",
              "      <td>639.510000</td>\n",
              "      <td>No reason specified</td>\n",
              "      <td>4</td>\n",
              "    </tr>\n",
              "    <tr>\n",
              "      <th>36988</th>\n",
              "      <td>29</td>\n",
              "      <td>Basic Membership</td>\n",
              "      <td>xxxxxxxx</td>\n",
              "      <td>13</td>\n",
              "      <td>-638.123421</td>\n",
              "      <td>11069.71</td>\n",
              "      <td>28.0</td>\n",
              "      <td>527.990000</td>\n",
              "      <td>Poor Customer Service</td>\n",
              "      <td>5</td>\n",
              "    </tr>\n",
              "    <tr>\n",
              "      <th>36989</th>\n",
              "      <td>23</td>\n",
              "      <td>Basic Membership</td>\n",
              "      <td>CID3838</td>\n",
              "      <td>12</td>\n",
              "      <td>154.940000</td>\n",
              "      <td>38127.56</td>\n",
              "      <td>Error</td>\n",
              "      <td>680.470000</td>\n",
              "      <td>Poor Website</td>\n",
              "      <td>4</td>\n",
              "    </tr>\n",
              "    <tr>\n",
              "      <th>36990</th>\n",
              "      <td>53</td>\n",
              "      <td>Platinum Membership</td>\n",
              "      <td>xxxxxxxx</td>\n",
              "      <td>15</td>\n",
              "      <td>482.610000</td>\n",
              "      <td>2378.86</td>\n",
              "      <td>20.0</td>\n",
              "      <td>197.264414</td>\n",
              "      <td>No reason specified</td>\n",
              "      <td>3</td>\n",
              "    </tr>\n",
              "    <tr>\n",
              "      <th>36991</th>\n",
              "      <td>35</td>\n",
              "      <td>Silver Membership</td>\n",
              "      <td>xxxxxxxx</td>\n",
              "      <td>15</td>\n",
              "      <td>79.180000</td>\n",
              "      <td>2189.68</td>\n",
              "      <td>Error</td>\n",
              "      <td>719.970000</td>\n",
              "      <td>Quality Customer Care</td>\n",
              "      <td>2</td>\n",
              "    </tr>\n",
              "  </tbody>\n",
              "</table>\n",
              "<p>36992 rows × 10 columns</p>\n",
              "</div>\n",
              "      <button class=\"colab-df-convert\" onclick=\"convertToInteractive('df-40bd945a-bb25-4e63-b330-09ae622ec9df')\"\n",
              "              title=\"Convert this dataframe to an interactive table.\"\n",
              "              style=\"display:none;\">\n",
              "        \n",
              "  <svg xmlns=\"http://www.w3.org/2000/svg\" height=\"24px\"viewBox=\"0 0 24 24\"\n",
              "       width=\"24px\">\n",
              "    <path d=\"M0 0h24v24H0V0z\" fill=\"none\"/>\n",
              "    <path d=\"M18.56 5.44l.94 2.06.94-2.06 2.06-.94-2.06-.94-.94-2.06-.94 2.06-2.06.94zm-11 1L8.5 8.5l.94-2.06 2.06-.94-2.06-.94L8.5 2.5l-.94 2.06-2.06.94zm10 10l.94 2.06.94-2.06 2.06-.94-2.06-.94-.94-2.06-.94 2.06-2.06.94z\"/><path d=\"M17.41 7.96l-1.37-1.37c-.4-.4-.92-.59-1.43-.59-.52 0-1.04.2-1.43.59L10.3 9.45l-7.72 7.72c-.78.78-.78 2.05 0 2.83L4 21.41c.39.39.9.59 1.41.59.51 0 1.02-.2 1.41-.59l7.78-7.78 2.81-2.81c.8-.78.8-2.07 0-2.86zM5.41 20L4 18.59l7.72-7.72 1.47 1.35L5.41 20z\"/>\n",
              "  </svg>\n",
              "      </button>\n",
              "      \n",
              "  <style>\n",
              "    .colab-df-container {\n",
              "      display:flex;\n",
              "      flex-wrap:wrap;\n",
              "      gap: 12px;\n",
              "    }\n",
              "\n",
              "    .colab-df-convert {\n",
              "      background-color: #E8F0FE;\n",
              "      border: none;\n",
              "      border-radius: 50%;\n",
              "      cursor: pointer;\n",
              "      display: none;\n",
              "      fill: #1967D2;\n",
              "      height: 32px;\n",
              "      padding: 0 0 0 0;\n",
              "      width: 32px;\n",
              "    }\n",
              "\n",
              "    .colab-df-convert:hover {\n",
              "      background-color: #E2EBFA;\n",
              "      box-shadow: 0px 1px 2px rgba(60, 64, 67, 0.3), 0px 1px 3px 1px rgba(60, 64, 67, 0.15);\n",
              "      fill: #174EA6;\n",
              "    }\n",
              "\n",
              "    [theme=dark] .colab-df-convert {\n",
              "      background-color: #3B4455;\n",
              "      fill: #D2E3FC;\n",
              "    }\n",
              "\n",
              "    [theme=dark] .colab-df-convert:hover {\n",
              "      background-color: #434B5C;\n",
              "      box-shadow: 0px 1px 3px 1px rgba(0, 0, 0, 0.15);\n",
              "      filter: drop-shadow(0px 1px 2px rgba(0, 0, 0, 0.3));\n",
              "      fill: #FFFFFF;\n",
              "    }\n",
              "  </style>\n",
              "\n",
              "      <script>\n",
              "        const buttonEl =\n",
              "          document.querySelector('#df-40bd945a-bb25-4e63-b330-09ae622ec9df button.colab-df-convert');\n",
              "        buttonEl.style.display =\n",
              "          google.colab.kernel.accessAllowed ? 'block' : 'none';\n",
              "\n",
              "        async function convertToInteractive(key) {\n",
              "          const element = document.querySelector('#df-40bd945a-bb25-4e63-b330-09ae622ec9df');\n",
              "          const dataTable =\n",
              "            await google.colab.kernel.invokeFunction('convertToInteractive',\n",
              "                                                     [key], {});\n",
              "          if (!dataTable) return;\n",
              "\n",
              "          const docLinkHtml = 'Like what you see? Visit the ' +\n",
              "            '<a target=\"_blank\" href=https://colab.research.google.com/notebooks/data_table.ipynb>data table notebook</a>'\n",
              "            + ' to learn more about interactive tables.';\n",
              "          element.innerHTML = '';\n",
              "          dataTable['output_type'] = 'display_data';\n",
              "          await google.colab.output.renderOutput(dataTable, element);\n",
              "          const docLink = document.createElement('div');\n",
              "          docLink.innerHTML = docLinkHtml;\n",
              "          element.appendChild(docLink);\n",
              "        }\n",
              "      </script>\n",
              "    </div>\n",
              "  </div>\n",
              "  "
            ]
          },
          "metadata": {},
          "execution_count": 93
        }
      ]
    },
    {
      "cell_type": "code",
      "source": [
        "def preprocessing_data(df):\n",
        "    \"\"\"\n",
        "    Preprocess your data (eg. Drop null datapoints or fill missing data)\n",
        "    :param df: pandas DataFrame\n",
        "    :return: pandas DataFrame\n",
        "    \"\"\"\n",
        "\n",
        "    #Fill invalid value with median of valid value\n",
        "\n",
        "    df.points_in_wallet = np.where((df.points_in_wallet < 0) | (df.points_in_wallet.isnull() == True), np.median(temp_df.points_in_wallet.to_numpy()), df.points_in_wallet)\n",
        "\n",
        "    df.avg_frequency_login_days = np.where((df.avg_frequency_login_days == 'Error'), np.median(temp_df.avg_frequency_login_days.to_numpy()), df.avg_frequency_login_days)\n",
        "    df.avg_frequency_login_days = df.avg_frequency_login_days.astype('float64')\n",
        "    df.avg_frequency_login_days = np.where(df.avg_frequency_login_days < 0, np.median(temp_df.avg_frequency_login_days.to_numpy()), df.avg_frequency_login_days)\n",
        "\n",
        "    df.days_since_last_login = np.where(df.days_since_last_login < 0, np.median(temp_df.days_since_last_login.to_numpy()), df.days_since_last_login)\n",
        "\n",
        "    df.avg_time_spent = np.where(df.avg_time_spent < 0, np.median(temp_df.avg_time_spent.to_numpy()), df.avg_time_spent)\n",
        "\n",
        "    #Drop something\n",
        "    df = df[df.churn_risk_score > 0]\n",
        "\n",
        "    df = df.drop(columns = 'referral_id')\n",
        "\n",
        "    #Reduce number of category\n",
        "    df.feedback = df.feedback.replace(negative, 'Negative')\n",
        "    df.feedback = df.feedback.replace(neutral, 'Neutral')\n",
        "    df.feedback = df.feedback.replace(positive, 'Positive')\n",
        "\n",
        "    return df"
      ],
      "metadata": {
        "id": "DgRG_AGHRTTf"
      },
      "execution_count": null,
      "outputs": []
    },
    {
      "cell_type": "code",
      "source": [
        "df = preprocessing_data(df.copy())\n",
        "df"
      ],
      "metadata": {
        "colab": {
          "base_uri": "https://localhost:8080/",
          "height": 423
        },
        "id": "ERrg4RRIWrod",
        "outputId": "eb5b49d6-28f9-40a1-c866-ee2df8285df7"
      },
      "execution_count": null,
      "outputs": [
        {
          "output_type": "execute_result",
          "data": {
            "text/plain": [
              "       age  membership_category  days_since_last_login  avg_time_spent  \\\n",
              "0       18  Platinum Membership                   17.0          300.63   \n",
              "1       32   Premium Membership                   16.0          306.34   \n",
              "2       44        No Membership                   14.0          516.16   \n",
              "3       37        No Membership                   11.0           53.27   \n",
              "4       31        No Membership                   20.0          113.13   \n",
              "...    ...                  ...                    ...             ...   \n",
              "36987   46     Basic Membership                    2.0          174.10   \n",
              "36988   29     Basic Membership                   13.0          174.10   \n",
              "36989   23     Basic Membership                   12.0          154.94   \n",
              "36990   53  Platinum Membership                   15.0          482.61   \n",
              "36991   35    Silver Membership                   15.0           79.18   \n",
              "\n",
              "       avg_transaction_value  avg_frequency_login_days  points_in_wallet  \\\n",
              "0                   53005.25                      17.0        781.750000   \n",
              "1                   12838.38                      10.0        700.240000   \n",
              "2                   21027.00                      22.0        500.690000   \n",
              "3                   25239.56                       6.0        567.660000   \n",
              "4                   24483.66                      16.0        663.060000   \n",
              "...                      ...                       ...               ...   \n",
              "36987               27277.68                       6.0        639.510000   \n",
              "36988               11069.71                      28.0        527.990000   \n",
              "36989               38127.56                      16.0        680.470000   \n",
              "36990                2378.86                      20.0        197.264414   \n",
              "36991                2189.68                      16.0        719.970000   \n",
              "\n",
              "       feedback  churn_risk_score  \n",
              "0      Positive                 2  \n",
              "1      Positive                 1  \n",
              "2      Negative                 5  \n",
              "3      Negative                 5  \n",
              "4      Negative                 5  \n",
              "...         ...               ...  \n",
              "36987   Neutral                 4  \n",
              "36988  Negative                 5  \n",
              "36989  Negative                 4  \n",
              "36990   Neutral                 3  \n",
              "36991  Positive                 2  \n",
              "\n",
              "[35829 rows x 9 columns]"
            ],
            "text/html": [
              "\n",
              "  <div id=\"df-7c50d1d6-7c05-4759-891c-325061b96a67\">\n",
              "    <div class=\"colab-df-container\">\n",
              "      <div>\n",
              "<style scoped>\n",
              "    .dataframe tbody tr th:only-of-type {\n",
              "        vertical-align: middle;\n",
              "    }\n",
              "\n",
              "    .dataframe tbody tr th {\n",
              "        vertical-align: top;\n",
              "    }\n",
              "\n",
              "    .dataframe thead th {\n",
              "        text-align: right;\n",
              "    }\n",
              "</style>\n",
              "<table border=\"1\" class=\"dataframe\">\n",
              "  <thead>\n",
              "    <tr style=\"text-align: right;\">\n",
              "      <th></th>\n",
              "      <th>age</th>\n",
              "      <th>membership_category</th>\n",
              "      <th>days_since_last_login</th>\n",
              "      <th>avg_time_spent</th>\n",
              "      <th>avg_transaction_value</th>\n",
              "      <th>avg_frequency_login_days</th>\n",
              "      <th>points_in_wallet</th>\n",
              "      <th>feedback</th>\n",
              "      <th>churn_risk_score</th>\n",
              "    </tr>\n",
              "  </thead>\n",
              "  <tbody>\n",
              "    <tr>\n",
              "      <th>0</th>\n",
              "      <td>18</td>\n",
              "      <td>Platinum Membership</td>\n",
              "      <td>17.0</td>\n",
              "      <td>300.63</td>\n",
              "      <td>53005.25</td>\n",
              "      <td>17.0</td>\n",
              "      <td>781.750000</td>\n",
              "      <td>Positive</td>\n",
              "      <td>2</td>\n",
              "    </tr>\n",
              "    <tr>\n",
              "      <th>1</th>\n",
              "      <td>32</td>\n",
              "      <td>Premium Membership</td>\n",
              "      <td>16.0</td>\n",
              "      <td>306.34</td>\n",
              "      <td>12838.38</td>\n",
              "      <td>10.0</td>\n",
              "      <td>700.240000</td>\n",
              "      <td>Positive</td>\n",
              "      <td>1</td>\n",
              "    </tr>\n",
              "    <tr>\n",
              "      <th>2</th>\n",
              "      <td>44</td>\n",
              "      <td>No Membership</td>\n",
              "      <td>14.0</td>\n",
              "      <td>516.16</td>\n",
              "      <td>21027.00</td>\n",
              "      <td>22.0</td>\n",
              "      <td>500.690000</td>\n",
              "      <td>Negative</td>\n",
              "      <td>5</td>\n",
              "    </tr>\n",
              "    <tr>\n",
              "      <th>3</th>\n",
              "      <td>37</td>\n",
              "      <td>No Membership</td>\n",
              "      <td>11.0</td>\n",
              "      <td>53.27</td>\n",
              "      <td>25239.56</td>\n",
              "      <td>6.0</td>\n",
              "      <td>567.660000</td>\n",
              "      <td>Negative</td>\n",
              "      <td>5</td>\n",
              "    </tr>\n",
              "    <tr>\n",
              "      <th>4</th>\n",
              "      <td>31</td>\n",
              "      <td>No Membership</td>\n",
              "      <td>20.0</td>\n",
              "      <td>113.13</td>\n",
              "      <td>24483.66</td>\n",
              "      <td>16.0</td>\n",
              "      <td>663.060000</td>\n",
              "      <td>Negative</td>\n",
              "      <td>5</td>\n",
              "    </tr>\n",
              "    <tr>\n",
              "      <th>...</th>\n",
              "      <td>...</td>\n",
              "      <td>...</td>\n",
              "      <td>...</td>\n",
              "      <td>...</td>\n",
              "      <td>...</td>\n",
              "      <td>...</td>\n",
              "      <td>...</td>\n",
              "      <td>...</td>\n",
              "      <td>...</td>\n",
              "    </tr>\n",
              "    <tr>\n",
              "      <th>36987</th>\n",
              "      <td>46</td>\n",
              "      <td>Basic Membership</td>\n",
              "      <td>2.0</td>\n",
              "      <td>174.10</td>\n",
              "      <td>27277.68</td>\n",
              "      <td>6.0</td>\n",
              "      <td>639.510000</td>\n",
              "      <td>Neutral</td>\n",
              "      <td>4</td>\n",
              "    </tr>\n",
              "    <tr>\n",
              "      <th>36988</th>\n",
              "      <td>29</td>\n",
              "      <td>Basic Membership</td>\n",
              "      <td>13.0</td>\n",
              "      <td>174.10</td>\n",
              "      <td>11069.71</td>\n",
              "      <td>28.0</td>\n",
              "      <td>527.990000</td>\n",
              "      <td>Negative</td>\n",
              "      <td>5</td>\n",
              "    </tr>\n",
              "    <tr>\n",
              "      <th>36989</th>\n",
              "      <td>23</td>\n",
              "      <td>Basic Membership</td>\n",
              "      <td>12.0</td>\n",
              "      <td>154.94</td>\n",
              "      <td>38127.56</td>\n",
              "      <td>16.0</td>\n",
              "      <td>680.470000</td>\n",
              "      <td>Negative</td>\n",
              "      <td>4</td>\n",
              "    </tr>\n",
              "    <tr>\n",
              "      <th>36990</th>\n",
              "      <td>53</td>\n",
              "      <td>Platinum Membership</td>\n",
              "      <td>15.0</td>\n",
              "      <td>482.61</td>\n",
              "      <td>2378.86</td>\n",
              "      <td>20.0</td>\n",
              "      <td>197.264414</td>\n",
              "      <td>Neutral</td>\n",
              "      <td>3</td>\n",
              "    </tr>\n",
              "    <tr>\n",
              "      <th>36991</th>\n",
              "      <td>35</td>\n",
              "      <td>Silver Membership</td>\n",
              "      <td>15.0</td>\n",
              "      <td>79.18</td>\n",
              "      <td>2189.68</td>\n",
              "      <td>16.0</td>\n",
              "      <td>719.970000</td>\n",
              "      <td>Positive</td>\n",
              "      <td>2</td>\n",
              "    </tr>\n",
              "  </tbody>\n",
              "</table>\n",
              "<p>35829 rows × 9 columns</p>\n",
              "</div>\n",
              "      <button class=\"colab-df-convert\" onclick=\"convertToInteractive('df-7c50d1d6-7c05-4759-891c-325061b96a67')\"\n",
              "              title=\"Convert this dataframe to an interactive table.\"\n",
              "              style=\"display:none;\">\n",
              "        \n",
              "  <svg xmlns=\"http://www.w3.org/2000/svg\" height=\"24px\"viewBox=\"0 0 24 24\"\n",
              "       width=\"24px\">\n",
              "    <path d=\"M0 0h24v24H0V0z\" fill=\"none\"/>\n",
              "    <path d=\"M18.56 5.44l.94 2.06.94-2.06 2.06-.94-2.06-.94-.94-2.06-.94 2.06-2.06.94zm-11 1L8.5 8.5l.94-2.06 2.06-.94-2.06-.94L8.5 2.5l-.94 2.06-2.06.94zm10 10l.94 2.06.94-2.06 2.06-.94-2.06-.94-.94-2.06-.94 2.06-2.06.94z\"/><path d=\"M17.41 7.96l-1.37-1.37c-.4-.4-.92-.59-1.43-.59-.52 0-1.04.2-1.43.59L10.3 9.45l-7.72 7.72c-.78.78-.78 2.05 0 2.83L4 21.41c.39.39.9.59 1.41.59.51 0 1.02-.2 1.41-.59l7.78-7.78 2.81-2.81c.8-.78.8-2.07 0-2.86zM5.41 20L4 18.59l7.72-7.72 1.47 1.35L5.41 20z\"/>\n",
              "  </svg>\n",
              "      </button>\n",
              "      \n",
              "  <style>\n",
              "    .colab-df-container {\n",
              "      display:flex;\n",
              "      flex-wrap:wrap;\n",
              "      gap: 12px;\n",
              "    }\n",
              "\n",
              "    .colab-df-convert {\n",
              "      background-color: #E8F0FE;\n",
              "      border: none;\n",
              "      border-radius: 50%;\n",
              "      cursor: pointer;\n",
              "      display: none;\n",
              "      fill: #1967D2;\n",
              "      height: 32px;\n",
              "      padding: 0 0 0 0;\n",
              "      width: 32px;\n",
              "    }\n",
              "\n",
              "    .colab-df-convert:hover {\n",
              "      background-color: #E2EBFA;\n",
              "      box-shadow: 0px 1px 2px rgba(60, 64, 67, 0.3), 0px 1px 3px 1px rgba(60, 64, 67, 0.15);\n",
              "      fill: #174EA6;\n",
              "    }\n",
              "\n",
              "    [theme=dark] .colab-df-convert {\n",
              "      background-color: #3B4455;\n",
              "      fill: #D2E3FC;\n",
              "    }\n",
              "\n",
              "    [theme=dark] .colab-df-convert:hover {\n",
              "      background-color: #434B5C;\n",
              "      box-shadow: 0px 1px 3px 1px rgba(0, 0, 0, 0.15);\n",
              "      filter: drop-shadow(0px 1px 2px rgba(0, 0, 0, 0.3));\n",
              "      fill: #FFFFFF;\n",
              "    }\n",
              "  </style>\n",
              "\n",
              "      <script>\n",
              "        const buttonEl =\n",
              "          document.querySelector('#df-7c50d1d6-7c05-4759-891c-325061b96a67 button.colab-df-convert');\n",
              "        buttonEl.style.display =\n",
              "          google.colab.kernel.accessAllowed ? 'block' : 'none';\n",
              "\n",
              "        async function convertToInteractive(key) {\n",
              "          const element = document.querySelector('#df-7c50d1d6-7c05-4759-891c-325061b96a67');\n",
              "          const dataTable =\n",
              "            await google.colab.kernel.invokeFunction('convertToInteractive',\n",
              "                                                     [key], {});\n",
              "          if (!dataTable) return;\n",
              "\n",
              "          const docLinkHtml = 'Like what you see? Visit the ' +\n",
              "            '<a target=\"_blank\" href=https://colab.research.google.com/notebooks/data_table.ipynb>data table notebook</a>'\n",
              "            + ' to learn more about interactive tables.';\n",
              "          element.innerHTML = '';\n",
              "          dataTable['output_type'] = 'display_data';\n",
              "          await google.colab.output.renderOutput(dataTable, element);\n",
              "          const docLink = document.createElement('div');\n",
              "          docLink.innerHTML = docLinkHtml;\n",
              "          element.appendChild(docLink);\n",
              "        }\n",
              "      </script>\n",
              "    </div>\n",
              "  </div>\n",
              "  "
            ]
          },
          "metadata": {},
          "execution_count": 95
        }
      ]
    },
    {
      "cell_type": "code",
      "source": [
        "df.info()"
      ],
      "metadata": {
        "colab": {
          "base_uri": "https://localhost:8080/"
        },
        "id": "Yu3kuj3-hR7a",
        "outputId": "1e92be01-b3bc-4b4c-91bb-2d71ea4b631f"
      },
      "execution_count": null,
      "outputs": [
        {
          "output_type": "stream",
          "name": "stdout",
          "text": [
            "<class 'pandas.core.frame.DataFrame'>\n",
            "Int64Index: 35829 entries, 0 to 36991\n",
            "Data columns (total 9 columns):\n",
            " #   Column                    Non-Null Count  Dtype  \n",
            "---  ------                    --------------  -----  \n",
            " 0   age                       35829 non-null  int64  \n",
            " 1   membership_category       35829 non-null  object \n",
            " 2   days_since_last_login     35829 non-null  float64\n",
            " 3   avg_time_spent            35829 non-null  float64\n",
            " 4   avg_transaction_value     35829 non-null  float64\n",
            " 5   avg_frequency_login_days  35829 non-null  float64\n",
            " 6   points_in_wallet          35829 non-null  float64\n",
            " 7   feedback                  35829 non-null  object \n",
            " 8   churn_risk_score          35829 non-null  int64  \n",
            "dtypes: float64(5), int64(2), object(2)\n",
            "memory usage: 2.7+ MB\n"
          ]
        }
      ]
    },
    {
      "cell_type": "markdown",
      "metadata": {
        "collapsed": false,
        "id": "Zi5s_ZP48Koy"
      },
      "source": [
        "## Feature Engineering"
      ]
    },
    {
      "cell_type": "markdown",
      "source": [
        "Use the same feature engineering function as before."
      ],
      "metadata": {
        "id": "aHWYfcGBns9v"
      }
    },
    {
      "cell_type": "code",
      "source": [
        "df = apply_feature_engineering(df)\n",
        "sns.heatmap(df.corr())"
      ],
      "metadata": {
        "colab": {
          "base_uri": "https://localhost:8080/",
          "height": 622
        },
        "id": "8dqVAAAijNry",
        "outputId": "6a3159c2-ca2c-4589-900c-4c8a5fa29efa"
      },
      "execution_count": null,
      "outputs": [
        {
          "output_type": "execute_result",
          "data": {
            "text/plain": [
              "<Axes: >"
            ]
          },
          "metadata": {},
          "execution_count": 97
        },
        {
          "output_type": "display_data",
          "data": {
            "text/plain": [
              "<Figure size 640x480 with 2 Axes>"
            ],
            "image/png": "[encoded data removed]"
          },
          "metadata": {}
        }
      ]
    },
    {
      "cell_type": "code",
      "source": [
        "X, y = prepare_X_y(df)\n",
        "X.shape, y.shape"
      ],
      "metadata": {
        "colab": {
          "base_uri": "https://localhost:8080/"
        },
        "id": "zl6mkE8x1tOR",
        "outputId": "c3e64808-1574-43f8-a7f9-4993c36b7677"
      },
      "execution_count": null,
      "outputs": [
        {
          "output_type": "execute_result",
          "data": {
            "text/plain": [
              "((35829, 8), (35829,))"
            ]
          },
          "metadata": {},
          "execution_count": 98
        }
      ]
    },
    {
      "cell_type": "markdown",
      "metadata": {
        "collapsed": false,
        "id": "prlZ55S68Koz"
      },
      "source": [
        "# Apply machine learning model"
      ]
    },
    {
      "cell_type": "markdown",
      "metadata": {
        "collapsed": false,
        "id": "uwkqQnmZ8Ko0"
      },
      "source": [
        "## Train-test split"
      ]
    },
    {
      "cell_type": "code",
      "execution_count": null,
      "metadata": {
        "id": "AgohjEzw8Ko0"
      },
      "outputs": [],
      "source": [
        "from sklearn.model_selection import train_test_split\n",
        "RANDOM_STATE = 2023\n",
        "TRAIN_SIZE = 0.9\n",
        "\n",
        "trainX, testX ,trainY, testY = train_test_split(X, y, train_size=TRAIN_SIZE, random_state=RANDOM_STATE)"
      ]
    },
    {
      "cell_type": "markdown",
      "metadata": {
        "collapsed": false,
        "id": "Xy5y6NEO8Ko0"
      },
      "source": [
        "## Build SK-learn model"
      ]
    },
    {
      "cell_type": "code",
      "execution_count": null,
      "metadata": {
        "id": "Gmu7P5zrP886"
      },
      "outputs": [],
      "source": [
        "from sklearn.pipeline import Pipeline\n",
        "from sklearn.model_selection import GridSearchCV\n",
        "from sklearn.preprocessing import StandardScaler\n",
        "from sklearn.preprocessing import MinMaxScaler"
      ]
    },
    {
      "cell_type": "markdown",
      "source": [
        "Decision Tree"
      ],
      "metadata": {
        "id": "7P8kSz55oCyp"
      }
    },
    {
      "cell_type": "code",
      "execution_count": null,
      "metadata": {
        "colab": {
          "base_uri": "https://localhost:8080/"
        },
        "id": "5rl31N6bKXnb",
        "outputId": "088a1184-1bb1-43a1-e92d-cb80fa22f3f4"
      },
      "outputs": [
        {
          "output_type": "stream",
          "name": "stdout",
          "text": [
            "Best parameter (CV score=0.784):\n",
            "{'tree__criterion': 'entropy', 'tree__min_samples_split': 500}\n",
            "              precision    recall  f1-score   support\n",
            "\n",
            "         1.0       0.72      0.94      0.81       266\n",
            "         2.0       0.92      0.64      0.75       274\n",
            "         3.0       0.92      0.90      0.91      1014\n",
            "         4.0       0.70      0.66      0.68      1055\n",
            "         5.0       0.74      0.80      0.77       974\n",
            "\n",
            "    accuracy                           0.79      3583\n",
            "   macro avg       0.80      0.79      0.78      3583\n",
            "weighted avg       0.79      0.79      0.78      3583\n",
            "\n"
          ]
        }
      ],
      "source": [
        "# -- Build a full pipeline\n",
        "from sklearn.tree import DecisionTreeClassifier\n",
        "from sklearn.metrics import precision_score, recall_score, f1_score, classification_report\n",
        "\n",
        "clf = DecisionTreeClassifier()\n",
        "scaler = StandardScaler()\n",
        "pipe = Pipeline(steps=[(\"scale\", scaler), (\"tree\", clf)]) #Build a pipeline with a scaler and a model\n",
        "\n",
        "# Parameters of pipelines can be set using '__' separated parameter names:\n",
        "param_grid = {\n",
        "    'tree__criterion': [\"gini\", \"entropy\", \"log_loss\"],\n",
        "    'tree__min_samples_split': [20, 100, 500, 1000]\n",
        "    }\n",
        "\n",
        "search = GridSearchCV(pipe, param_grid, n_jobs=-1)\n",
        "search.fit(trainX, trainY)\n",
        "print(\"Best parameter (CV score=%0.3f):\" % search.best_score_)\n",
        "print(search.best_params_)\n",
        "\n",
        "predicted_label = search.predict(testX)\n",
        "print(classification_report(testY, predicted_label))"
      ]
    },
    {
      "cell_type": "markdown",
      "source": [
        "Support Vector Machine"
      ],
      "metadata": {
        "id": "DswkN-k3oEmG"
      }
    },
    {
      "cell_type": "code",
      "source": [
        "# -- Build a full pipeline\n",
        "from sklearn.svm import SVC\n",
        "from sklearn.metrics import precision_score, recall_score, f1_score, classification_report\n",
        "\n",
        "clf = SVC()\n",
        "scaler = StandardScaler()\n",
        "pipe = Pipeline(steps=[(\"scale\", scaler), (\"svm\", clf)]) #Build a pipeline with a scaler and a model\n",
        "\n",
        "# Parameters of pipelines can be set using '__' separated parameter names:\n",
        "param_grid = {\n",
        "    'svm__C': [5, 10, 20]\n",
        "    }\n",
        "\n",
        "search = GridSearchCV(pipe, param_grid, n_jobs=-1)\n",
        "search.fit(trainX, trainY)\n",
        "print(\"Best parameter (CV score=%0.3f):\" % search.best_score_)\n",
        "print(search.best_params_)\n",
        "\n",
        "predicted_label = search.predict(testX)\n",
        "print(classification_report(testY, predicted_label))"
      ],
      "metadata": {
        "colab": {
          "base_uri": "https://localhost:8080/"
        },
        "id": "DtRYLLGt4HLK",
        "outputId": "2ba81bb5-9c0e-4f25-f5be-b2d86f57641e"
      },
      "execution_count": null,
      "outputs": [
        {
          "output_type": "stream",
          "name": "stdout",
          "text": [
            "Best parameter (CV score=0.748):\n",
            "{'svm__C': 20}\n",
            "              precision    recall  f1-score   support\n",
            "\n",
            "         1.0       0.71      0.71      0.71       266\n",
            "         2.0       0.72      0.72      0.72       274\n",
            "         3.0       0.88      0.89      0.88      1014\n",
            "         4.0       0.73      0.42      0.54      1055\n",
            "         5.0       0.65      0.94      0.77       974\n",
            "\n",
            "    accuracy                           0.74      3583\n",
            "   macro avg       0.74      0.74      0.73      3583\n",
            "weighted avg       0.75      0.74      0.73      3583\n",
            "\n"
          ]
        }
      ]
    },
    {
      "cell_type": "code",
      "execution_count": null,
      "metadata": {
        "id": "T0UDQCc48Ko1"
      },
      "outputs": [],
      "source": [
        "def get_conclusion():\n",
        "    # Todo: Please return your answer, conclusion and opinion right here\n",
        "    return \"7. The metrics of this exercise is quite difficult to chose. \"\\\n",
        "    \"If I chose precision, it will produce more accurate in prediction, but may miss potential high churn risk score customers.\" \\\n",
        "    \"If I chose recall metric, we may target some customers that is actually satisfied. If we have some programs to help customers more happy when using our services, like, giving voucher or discount, it may lead to spending too much money.\" \\\n",
        "    \"But if the company aim is to satisfy customers and don't care about money or have another campain that don't cost too much, the recall will be more important. So the recall is my main metric.\" \\\n",
        "        \"Other conclusion: In comparision with Decision Tree, SVM take longer time in preprocessing and training, and the accuracy is still low. I think the data would fit the Decision Tree model better in every aspect plus the explainable ability. \""
      ]
    },
    {
      "cell_type": "markdown",
      "metadata": {
        "id": "osSlCXxzwOmf"
      },
      "source": [
        "**Little experiment**"
      ]
    },
    {
      "cell_type": "markdown",
      "metadata": {
        "id": "PgCFXK2JwSD7"
      },
      "source": [
        "What if we reduce the number of churn risk score categories from 5 to 3."
      ]
    },
    {
      "cell_type": "markdown",
      "metadata": {
        "id": "dRzuaUGEwh-8"
      },
      "source": [
        "We can see the main aim is to identify unsatisfy customers. Five category seems like too much and it may confuse the model when we actually don't need that much category.\n",
        "\n",
        "Low risk: 1, 2\n",
        "Average: 3\n",
        "High risk: 4, 5\n",
        "\n",
        "The aim is to identify the high risk group of customers."
      ]
    },
    {
      "cell_type": "code",
      "execution_count": null,
      "metadata": {
        "id": "tzA1ZnddxcSs"
      },
      "outputs": [],
      "source": [
        "new_category = [[1, 2], [3], [4, 5]]"
      ]
    },
    {
      "cell_type": "code",
      "execution_count": null,
      "metadata": {
        "id": "tm7rrBXKx4_b"
      },
      "outputs": [],
      "source": [
        "df.churn_risk_score = df.churn_risk_score.replace(new_category, [1, 2, 3])"
      ]
    },
    {
      "cell_type": "code",
      "execution_count": null,
      "metadata": {
        "id": "pUdtVOo-zld1",
        "colab": {
          "base_uri": "https://localhost:8080/"
        },
        "outputId": "96484e4d-84a7-468c-c389-ae36baa3da3c"
      },
      "outputs": [
        {
          "output_type": "execute_result",
          "data": {
            "text/plain": [
              "3    20012\n",
              "2    10424\n",
              "1     5393\n",
              "Name: churn_risk_score, dtype: int64"
            ]
          },
          "metadata": {},
          "execution_count": 109
        }
      ],
      "source": [
        "df.churn_risk_score.value_counts()"
      ]
    },
    {
      "cell_type": "code",
      "execution_count": null,
      "metadata": {
        "id": "iD2EJBIMxqv1"
      },
      "outputs": [],
      "source": [
        "def prepare_X_y(df):\n",
        "    \"\"\"\n",
        "    Feature engineering and create X and y\n",
        "    :param df: pandas dataframe\n",
        "    :return: (X, y) output feature matrix (dataframe), target (series)\n",
        "    \"\"\"\n",
        "    # Todo: Split data into X and y (using sklearn train_test_split). Return two dataframes\n",
        "    data = df.to_numpy()\n",
        "    X = data[:,:-1] # Todo: Select features\n",
        "    y = data[:,-1] # Todo: Select label\n",
        "\n",
        "    return X, y\n",
        "\n",
        "X, y = prepare_X_y(df)"
      ]
    },
    {
      "cell_type": "code",
      "execution_count": null,
      "metadata": {
        "id": "C4k9BkXbyptM"
      },
      "outputs": [],
      "source": [
        "RANDOM_STATE = 2023\n",
        "TRAIN_SIZE = 0.9\n",
        "\n",
        "trainX, testX ,trainY, testY = train_test_split(X, y, train_size=TRAIN_SIZE, random_state=RANDOM_STATE)"
      ]
    },
    {
      "cell_type": "code",
      "source": [
        "# -- Build a full pipeline\n",
        "from sklearn.tree import DecisionTreeClassifier\n",
        "from sklearn.metrics import precision_score, recall_score, f1_score, classification_report\n",
        "\n",
        "clf = DecisionTreeClassifier(criterion='entropy', min_samples_split=500)\n",
        "scaler = StandardScaler()\n",
        "model = Pipeline(steps=[(\"scale\", scaler), (\"tree\", clf)]) #Build a pipeline with a scaler and a model\n",
        "\n",
        "model.fit(trainX, trainY)\n",
        "\n",
        "predicted_label = model.predict(testX)\n",
        "print(classification_report(testY, predicted_label))"
      ],
      "metadata": {
        "colab": {
          "base_uri": "https://localhost:8080/"
        },
        "id": "k09SLef27D2N",
        "outputId": "bb21eebb-27b8-47a0-9520-0e07403ff527"
      },
      "execution_count": null,
      "outputs": [
        {
          "output_type": "stream",
          "name": "stdout",
          "text": [
            "              precision    recall  f1-score   support\n",
            "\n",
            "         1.0       1.00      1.00      1.00       540\n",
            "         2.0       0.92      0.90      0.91      1014\n",
            "         3.0       0.95      0.96      0.96      2029\n",
            "\n",
            "    accuracy                           0.95      3583\n",
            "   macro avg       0.96      0.95      0.96      3583\n",
            "weighted avg       0.95      0.95      0.95      3583\n",
            "\n"
          ]
        }
      ]
    },
    {
      "cell_type": "code",
      "execution_count": null,
      "metadata": {
        "id": "iKOEPy0tyzE7",
        "colab": {
          "base_uri": "https://localhost:8080/"
        },
        "outputId": "301dc990-507b-4b32-ae99-b3caccf9bd05"
      },
      "outputs": [
        {
          "output_type": "stream",
          "name": "stdout",
          "text": [
            "              precision    recall  f1-score   support\n",
            "\n",
            "         1.0       1.00      1.00      1.00       540\n",
            "         2.0       0.88      0.89      0.88      1014\n",
            "         3.0       0.94      0.94      0.94      2029\n",
            "\n",
            "    accuracy                           0.93      3583\n",
            "   macro avg       0.94      0.94      0.94      3583\n",
            "weighted avg       0.93      0.93      0.93      3583\n",
            "\n"
          ]
        }
      ],
      "source": [
        "# -- Build a full pipeline\n",
        "from sklearn.svm import SVC\n",
        "from sklearn.metrics import precision_score, recall_score, f1_score, classification_report\n",
        "\n",
        "clf = SVC(C = 20)\n",
        "scaler = StandardScaler()\n",
        "model = Pipeline(steps=[(\"scale\", scaler), (\"svm\", clf)]) #Build a pipeline with a scaler and a model\n",
        "\n",
        "model.fit(trainX, trainY)\n",
        "\n",
        "predicted_label = model.predict(testX)\n",
        "print(classification_report(testY, predicted_label))"
      ]
    },
    {
      "cell_type": "markdown",
      "metadata": {
        "id": "vCugVC9az9DD"
      },
      "source": [
        "The accuracy is way better but still we can identify the target customers easily."
      ]
    }
  ],
  "metadata": {
    "colab": {
      "provenance": []
    },
    "kernelspec": {
      "display_name": "Python 3",
      "language": "python",
      "name": "python3"
    },
    "language_info": {
      "codemirror_mode": {
        "name": "ipython",
        "version": 2
      },
      "file_extension": ".py",
      "mimetype": "text/x-python",
      "name": "python",
      "nbconvert_exporter": "python",
      "pygments_lexer": "ipython2",
      "version": "2.7.6"
    }
  },
  "nbformat": 4,
  "nbformat_minor": 0
}