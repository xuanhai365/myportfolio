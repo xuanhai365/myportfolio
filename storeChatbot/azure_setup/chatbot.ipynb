{
 "cells": [
  {
   "cell_type": "code",
   "execution_count": 1,
   "metadata": {},
   "outputs": [
    {
     "data": {
      "text/plain": [
       "True"
      ]
     },
     "execution_count": 1,
     "metadata": {},
     "output_type": "execute_result"
    }
   ],
   "source": [
    "import os\n",
    "from dotenv import load_dotenv\n",
    "from openai import AzureOpenAI\n",
    "from azure.search.documents import SearchClient\n",
    "from azure.core.credentials import AzureKeyCredential\n",
    "import azure.search.documents.indexes as indexes\n",
    "import azure.search.documents.models as models\n",
    "from azure.storage.blob import BlobServiceClient\n",
    "\n",
    "load_dotenv(override=True)"
   ]
  },
  {
   "cell_type": "markdown",
   "metadata": {},
   "source": [
    "Setup OpenAI Client"
   ]
  },
  {
   "cell_type": "code",
   "execution_count": 2,
   "metadata": {},
   "outputs": [
    {
     "name": "stdout",
     "output_type": "stream",
     "text": [
      "API:  97c0e51f82664c5087879c951ab9ab81 ENDPOINT:  https://my-chatbox-1.openai.azure.com\n"
     ]
    }
   ],
   "source": [
    "oai_key = os.getenv(\"AZURE_OPENAI_API_KEY\")\n",
    "oai_endpoint = os.getenv(\"AZURE_OPENAI_ENDPOINT\")\n",
    "\n",
    "openai_client = AzureOpenAI(\n",
    "    api_key = oai_key,\n",
    "    api_version = \"2024-02-01\",\n",
    "    azure_endpoint = oai_endpoint\n",
    "    )\n",
    "\n",
    "print('API: ', oai_key, 'ENDPOINT: ', oai_endpoint)"
   ]
  },
  {
   "cell_type": "markdown",
   "metadata": {},
   "source": [
    "Setup SearchClient"
   ]
  },
  {
   "cell_type": "code",
   "execution_count": 3,
   "metadata": {},
   "outputs": [
    {
     "name": "stdout",
     "output_type": "stream",
     "text": [
      "API:  MBkuu4JSork3x8Bxn2OMSKsKpGjlMZvW1RfCIItLB1AzSeAjGIKs ENDPOINT:  https://my-search-123.search.windows.net\n"
     ]
    }
   ],
   "source": [
    "search_endpoint = os.getenv(\"AZURE_SEARCH_SERVICE_ENDPOINT\")\n",
    "search_api = os.getenv(\"AZURE_SEARCH_API_KEY\")\n",
    "credential = AzureKeyCredential(search_api)\n",
    "index_name = \"my-search-index\"\n",
    "\n",
    "search_client = SearchClient(endpoint=search_endpoint, index_name=index_name, credential=credential)\n",
    "\n",
    "print('API: ', search_api, 'ENDPOINT: ', search_endpoint)"
   ]
  },
  {
   "cell_type": "code",
   "execution_count": null,
   "metadata": {},
   "outputs": [],
   "source": [
    "'''\n",
    "    fields = [\n",
    "        indexes.models.SimpleField(name=\"id\", type=indexes.models.SearchFieldDataType.String, key=True),\n",
    "        indexes.models.SearchableField(name=\"content\", filterable=True),\n",
    "        indexes.models.SearchableField(name=\"pages\", filterable=True), \n",
    "                            #type=indexes.models.SearchFieldDataType.String,\n",
    "                            #searchable=True),\n",
    "        indexes.models.SearchField(name=\"contentVector\",\n",
    "                            type=indexes.models.SearchFieldDataType.Collection(indexes.models.SearchFieldDataType.Single),\n",
    "                            searchable=True,\n",
    "                            vector_search_dimensions=1536,\n",
    "                            vector_search_profile_name='my_search_profile'),\n",
    "        \n",
    "    ],'''"
   ]
  },
  {
   "cell_type": "markdown",
   "metadata": {},
   "source": [
    "Setup SearchIndexClient"
   ]
  },
  {
   "cell_type": "code",
   "execution_count": 36,
   "metadata": {},
   "outputs": [
    {
     "data": {
      "text/plain": [
       "<azure.search.documents.indexes.models._index.SearchIndex at 0x19df6cf04d0>"
      ]
     },
     "execution_count": 36,
     "metadata": {},
     "output_type": "execute_result"
    }
   ],
   "source": [
    "index_client = indexes.SearchIndexClient(endpoint=search_endpoint, credential=credential)\n",
    "\n",
    "search_index = indexes.models.SearchIndex(\n",
    "    name = index_name,\n",
    "    fields = [indexes.models.SearchField(\n",
    "                name=\"chunk_id\",\n",
    "                type=indexes.models.SearchFieldDataType.String,\n",
    "                key=True,\n",
    "                hidden=False,\n",
    "                filterable=True,\n",
    "                sortable=True,\n",
    "                facetable=False,\n",
    "                searchable=True,\n",
    "                analyzer_name=\"keyword\"\n",
    "            ),\n",
    "            indexes.models.SearchField(\n",
    "                name=\"parent_id\",\n",
    "                type=indexes.models.SearchFieldDataType.String,\n",
    "                hidden=False,\n",
    "                filterable=True,\n",
    "                sortable=True,\n",
    "                facetable=False,\n",
    "                searchable=True\n",
    "            ),\n",
    "            indexes.models.SearchField(\n",
    "                name=\"chunk\",\n",
    "                type=indexes.models.SearchFieldDataType.String,\n",
    "                hidden=False,\n",
    "                filterable=False,\n",
    "                sortable=False,\n",
    "                facetable=False,\n",
    "                searchable=True\n",
    "            ),\n",
    "            indexes.models.SearchField(\n",
    "                name=\"title\",\n",
    "                type=indexes.models.SearchFieldDataType.String,\n",
    "                hidden=False,\n",
    "                filterable=False,\n",
    "                sortable=False,\n",
    "                facetable=False,\n",
    "                searchable=True\n",
    "            ),\n",
    "            indexes.models.SearchField(\n",
    "                name=\"vector\",\n",
    "                type=indexes.models.SearchFieldDataType.Collection(indexes.models.SearchFieldDataType.Single),\n",
    "                hidden=False,\n",
    "                filterable=False,\n",
    "                sortable=False,\n",
    "                facetable=False,\n",
    "                searchable=True,\n",
    "                vector_search_dimensions=1536,\n",
    "                vector_search_profile_name=\"my_search_profile\"\n",
    "            )],\n",
    "    vector_search = indexes.models.VectorSearch(\n",
    "        algorithms = [\n",
    "            indexes.models.HnswAlgorithmConfiguration(\n",
    "                name = 'my_hnsw',\n",
    "                #kind = indexes.models.VectorSearchAlgorithmKind.HNSW,\n",
    "                #parameters = indexes.models.HnswParameters(metric = 'cosine')\n",
    "            )\n",
    "        ],\n",
    "        profiles = [\n",
    "            indexes.models.VectorSearchProfile(\n",
    "                name = 'my_search_profile',\n",
    "                algorithm_configuration_name = 'my_hnsw'\n",
    "            )\n",
    "        ],\n",
    "        #vectorizers=[  \n",
    "            #indexes.models.AzureOpenAIVectorizer(  \n",
    "                #name=\"myOpenAI\",  \n",
    "                #kind=\"azureOpenAI\",  \n",
    "                #azure_open_ai_parameters=indexes.models.AzureOpenAIParameters(  \n",
    "                    #resource_uri=oai_endpoint,  \n",
    "                    #deployment_id='text-embedding-ada-002',\n",
    "                    #model_name='text-embedding-ada-002',\n",
    "                    #api_key=oai_key,\n",
    "                #),\n",
    "            #),  \n",
    "        #],  \n",
    "    )\n",
    ")\n",
    "\n",
    "index_client.create_or_update_index(search_index)"
   ]
  },
  {
   "cell_type": "markdown",
   "metadata": {},
   "source": [
    "Setup BlobStorageClient"
   ]
  },
  {
   "cell_type": "code",
   "execution_count": 5,
   "metadata": {},
   "outputs": [
    {
     "data": {
      "text/plain": [
       "<azure.storage.blob._container_client.ContainerClient at 0x19df6cd0d50>"
      ]
     },
     "execution_count": 5,
     "metadata": {},
     "output_type": "execute_result"
    }
   ],
   "source": [
    "connect_string = os.getenv(\"AZURE_STORAGE_CONNECTION_STRING\")\n",
    "blob_client = BlobServiceClient.from_connection_string(connect_string)\n",
    "\n",
    "container_name = \"mycontainer\"\n",
    "blob_client.create_container(container_name)"
   ]
  },
  {
   "cell_type": "markdown",
   "metadata": {},
   "source": [
    "Upload document in the database to Blob Storage"
   ]
  },
  {
   "cell_type": "code",
   "execution_count": 29,
   "metadata": {},
   "outputs": [],
   "source": [
    "database = './database'\n",
    "for file_name in os.listdir(database):\n",
    "    blob_obj = blob_client.get_blob_client(container=container_name, blob=file_name)\n",
    "    with open(os.path.join(database, file_name), \"rb\") as data:\n",
    "        try:\n",
    "            blob_obj.upload_blob(data)\n",
    "        except:\n",
    "            pass"
   ]
  },
  {
   "cell_type": "markdown",
   "metadata": {},
   "source": [
    "Link AI Search to Blob Storage"
   ]
  },
  {
   "cell_type": "code",
   "execution_count": 37,
   "metadata": {},
   "outputs": [
    {
     "data": {
      "text/plain": [
       "<azure.search.documents.indexes.models._models.SearchIndexerDataSourceConnection at 0x19df7b9fc10>"
      ]
     },
     "execution_count": 37,
     "metadata": {},
     "output_type": "execute_result"
    }
   ],
   "source": [
    "indexer_client = indexes.SearchIndexerClient(endpoint=search_endpoint, credential=credential)\n",
    "indexer_data = indexes.models.SearchIndexerDataContainer(name = container_name)\n",
    "\n",
    "data_connection = indexes.models.SearchIndexerDataSourceConnection(\n",
    "    name = \"my-data-connection\",\n",
    "    type = indexes.models.SearchIndexerDataSourceType.azure_blob,\n",
    "    container = indexer_data,\n",
    "    connection_string = connect_string\n",
    ")\n",
    "\n",
    "indexer_client.create_or_update_data_source_connection(data_connection)"
   ]
  },
  {
   "cell_type": "markdown",
   "metadata": {},
   "source": [
    "Set Indexer skillset"
   ]
  },
  {
   "cell_type": "code",
   "execution_count": 38,
   "metadata": {},
   "outputs": [
    {
     "data": {
      "text/plain": [
       "<azure.search.documents.indexes.models._models.SearchIndexerSkillset at 0x19df6d67510>"
      ]
     },
     "execution_count": 38,
     "metadata": {},
     "output_type": "execute_result"
    }
   ],
   "source": [
    "split_skill = indexes.models.SplitSkill(\n",
    "    name = \"Split Skill\",\n",
    "    default_language_code=\"en\",\n",
    "    context = '/document',\n",
    "    text_split_mode = 'pages',\n",
    "    maximum_page_length = 500,\n",
    "    page_overlap_length = 100,\n",
    "    inputs = [\n",
    "        indexes.models.InputFieldMappingEntry(\n",
    "            name = 'text',\n",
    "            source = '/document/content'\n",
    "        )\n",
    "    ],\n",
    "    outputs = [\n",
    "        indexes.models.OutputFieldMappingEntry(\n",
    "            name = 'textItems',\n",
    "            target_name = 'pages'\n",
    "        )\n",
    "    ]\n",
    ")\n",
    "embedding_skill = indexes.models.AzureOpenAIEmbeddingSkill(\n",
    "    name = \"OpenAI Embedding Skill\",\n",
    "    context = '/document/pages/*',\n",
    "    resource_uri = oai_endpoint,\n",
    "    api_key = oai_key,\n",
    "    deployment_id = 'text-embedding-ada-002',\n",
    "    model_name = 'text-embedding-ada-002',\n",
    "    dimensions = 1536,\n",
    "    inputs = [\n",
    "        indexes.models.InputFieldMappingEntry(\n",
    "            name = 'text',\n",
    "            source = '/document/pages/*'\n",
    "        )\n",
    "    ],\n",
    "    outputs = [\n",
    "        indexes.models.OutputFieldMappingEntry(\n",
    "            name = 'embedding',\n",
    "            target_name = 'vector'\n",
    "        )\n",
    "    ]\n",
    ")\n",
    "index_projections = indexes.models.SearchIndexerIndexProjections(  \n",
    "        selectors=[  \n",
    "            indexes.models.SearchIndexerIndexProjectionSelector(  \n",
    "                target_index_name=index_name,  \n",
    "                parent_key_field_name=\"parent_id\",  \n",
    "                source_context=\"/document/pages/*\",  \n",
    "                mappings=[\n",
    "                    indexes.models.InputFieldMappingEntry(name=\"chunk\", source=\"/document/pages/*\"),  \n",
    "                    indexes.models.InputFieldMappingEntry(name=\"vector\", source=\"/document/pages/*/vector\"),\n",
    "                    indexes.models.InputFieldMappingEntry(name=\"title\", source=\"/document/metadata_storage_name\")\n",
    "                ]\n",
    "            )\n",
    "        ],  \n",
    "        parameters=indexes.models.SearchIndexerIndexProjectionsParameters(  \n",
    "            projection_mode=indexes.models.IndexProjectionMode.SKIP_INDEXING_PARENT_DOCUMENTS  \n",
    "        )  \n",
    "    )\n",
    "\n",
    "skillset = indexes.models.SearchIndexerSkillset(\n",
    "    name = 'my-skillset',\n",
    "    description = 'Skillset for OpenAI Embedding',\n",
    "    skills = [split_skill, embedding_skill],\n",
    "    index_projections = index_projections\n",
    ")\n",
    "\n",
    "indexer_client.create_or_update_skillset(skillset)"
   ]
  },
  {
   "cell_type": "markdown",
   "metadata": {},
   "source": [
    "Setup SearchIndexerClient"
   ]
  },
  {
   "cell_type": "code",
   "execution_count": 43,
   "metadata": {},
   "outputs": [
    {
     "data": {
      "text/plain": [
       "<azure.search.documents.indexes._generated.models._models_py3.SearchIndexer at 0x19df7385d50>"
      ]
     },
     "execution_count": 43,
     "metadata": {},
     "output_type": "execute_result"
    }
   ],
   "source": [
    "indexer_name = \"my-search-indexer\"\n",
    "search_indexer = indexes.models.SearchIndexer(\n",
    "    name = indexer_name,\n",
    "    description = \"Indexer for my-search-index\",\n",
    "    data_source_name = data_connection.name,\n",
    "    target_index_name = search_index.name,\n",
    "    skillset_name = skillset.name,\n",
    "    schedule = indexes.models.IndexingSchedule(interval = \"PT5M\"),\n",
    ")\n",
    "\n",
    "indexer_client.create_or_update_indexer(search_indexer)"
   ]
  },
  {
   "cell_type": "code",
   "execution_count": 28,
   "metadata": {},
   "outputs": [],
   "source": [
    "indexer_client.run_indexer(indexer_name)"
   ]
  },
  {
   "cell_type": "code",
   "execution_count": 44,
   "metadata": {},
   "outputs": [],
   "source": [
    "def generate_embeddings(text, model):\n",
    "    # Generate embeddings for the provided text using the specified model\n",
    "    embeddings_response = openai_client.embeddings.create(model=model, input=text)\n",
    "    # Extract the embedding data from the response\n",
    "    embedding = embeddings_response.data[0].embedding\n",
    "    return embedding"
   ]
  },
  {
   "cell_type": "code",
   "execution_count": 49,
   "metadata": {},
   "outputs": [],
   "source": [
    "def chat(query):\n",
    "    embed_model = \"text-embedding-ada-002\"\n",
    "\n",
    "    vector_query = models.VectorizedQuery(vector=generate_embeddings(query, embed_model), \n",
    "                                        k_nearest_neighbors=3, \n",
    "                                        fields=\"vector\")\n",
    "    #print(vector_query)\n",
    "    results = search_client.search(  \n",
    "        search_text=query,  \n",
    "        vector_queries = [vector_query]\n",
    "    )\n",
    "    docs = ''\n",
    "    for result in results:\n",
    "        docs = docs + result['chunk'] + '\\n'\n",
    "\n",
    "    prompt = '''INSTRUCTIONS: Answer the question using the information in the document provided.\\n\n",
    "    QUESTION: {query}.\\n\n",
    "    DOCUMENT: {document}'''.format(query=query, document=docs)\n",
    "\n",
    "    response = openai_client.chat.completions.create(\n",
    "        model='gpt-4o',\n",
    "        messages=[\n",
    "            {\"role\": \"system\", \"content\": \"You are a HR manager at a tech company.\"},\n",
    "            {\"role\": \"user\", \"content\": prompt}\n",
    "        ]\n",
    "    )\n",
    "\n",
    "    #print(response)\n",
    "    #print(response.model_dump_json(indent=2))\n",
    "    print(response.choices[0].message.content)"
   ]
  },
  {
   "cell_type": "markdown",
   "metadata": {},
   "source": [
    "Prompt input"
   ]
  },
  {
   "cell_type": "code",
   "execution_count": 52,
   "metadata": {},
   "outputs": [
    {
     "name": "stdout",
     "output_type": "stream",
     "text": [
      "The most valuable skill that Hai possesses is proficiency in developing machine learning models, particularly the ability to create optimized solutions that meet real-time speed and accuracy requirements. This is evidenced by Hai's work on the \"Product Data Retrieval System,\" which involves both real-time recognition and the integration of a recommendation system to enhance user experience in retail environments. Additionally, Hai has demonstrated competencies in other machine learning applications such as customer segmentation and Q&A chatbot development using the RAG technique.\n"
     ]
    }
   ],
   "source": [
    "chat(\"What is the most valueable skill that Hai have?\")"
   ]
  }
 ],
 "metadata": {
  "kernelspec": {
   "display_name": "Python 3",
   "language": "python",
   "name": "python3"
  },
  "language_info": {
   "codemirror_mode": {
    "name": "ipython",
    "version": 3
   },
   "file_extension": ".py",
   "mimetype": "text/x-python",
   "name": "python",
   "nbconvert_exporter": "python",
   "pygments_lexer": "ipython3",
   "version": "3.11.9"
  }
 },
 "nbformat": 4,
 "nbformat_minor": 2
}
